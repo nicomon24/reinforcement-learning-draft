{
 "cells": [
  {
   "cell_type": "markdown",
   "metadata": {},
   "source": [
    "# Q-Learning in OpenAI's frozen lake\n",
    "We are going to implement basic Q-Learning in OpenAI's gym \"Frozen Lake v0\" and look at some statistics to know how well we are performing"
   ]
  },
  {
   "cell_type": "code",
   "execution_count": 1,
   "metadata": {
    "collapsed": false
   },
   "outputs": [],
   "source": [
    "# Notebook imports\n",
    "from tqdm import tnrange, tqdm_notebook"
   ]
  },
  {
   "cell_type": "markdown",
   "metadata": {},
   "source": [
    "## Load environment"
   ]
  },
  {
   "cell_type": "code",
   "execution_count": 2,
   "metadata": {
    "collapsed": false
   },
   "outputs": [
    {
     "name": "stderr",
     "output_type": "stream",
     "text": [
      "[2017-10-09 22:33:12,436] Making new env: FrozenLake-v0\n",
      "[2017-10-09 22:33:13,029] Clearing 40 monitor files from previous run (because force=True was provided)\n"
     ]
    },
    {
     "data": {
      "text/plain": [
       "[42]"
      ]
     },
     "execution_count": 2,
     "metadata": {},
     "output_type": "execute_result"
    }
   ],
   "source": [
    "import gym\n",
    "from gym import wrappers\n",
    "# Create env\n",
    "env = gym.make(\"FrozenLake-v0\")\n",
    "# Setup wrapper\n",
    "outdir = 'tmp/qlearning-results'\n",
    "env = wrappers.Monitor(env, directory=outdir, force=True)\n",
    "# Set seed for replication \n",
    "env.seed(42)"
   ]
  },
  {
   "cell_type": "markdown",
   "metadata": {},
   "source": [
    "## Setup Q table and support structures"
   ]
  },
  {
   "cell_type": "code",
   "execution_count": 3,
   "metadata": {
    "collapsed": false
   },
   "outputs": [],
   "source": [
    "import numpy as np\n",
    "from collections import deque\n",
    "# Create a table with dimensions: state-dimensions x action-dimension\n",
    "Q = np.zeros((env.observation_space.n, env.action_space.n))\n",
    "# Create a list of all the previous rewards for statistics\n",
    "r_history = []\n",
    "r_history_100 = deque(maxlen = 100)\n",
    "mean_r_history = []\n",
    "mean_r_history_100 = []"
   ]
  },
  {
   "cell_type": "markdown",
   "metadata": {},
   "source": [
    "## Parameters tuning"
   ]
  },
  {
   "cell_type": "code",
   "execution_count": 4,
   "metadata": {
    "collapsed": true
   },
   "outputs": [],
   "source": [
    "GAMMA = 0.9\n",
    "ALPHA = 0.8\n",
    "EPSILON = 0.8\n",
    "N_EPISODES = 10000"
   ]
  },
  {
   "cell_type": "markdown",
   "metadata": {},
   "source": [
    "## Run the agent"
   ]
  },
  {
   "cell_type": "code",
   "execution_count": 5,
   "metadata": {
    "collapsed": false
   },
   "outputs": [
    {
     "name": "stderr",
     "output_type": "stream",
     "text": [
      "[2017-10-09 22:33:13,113] Starting new video recorder writing to /Users/nicom/Documents/Projects/openai/letitgo/tmp/qlearning-results/openaigym.video.0.47400.video000000.json\n",
      "[2017-10-09 22:33:13,117] Starting new video recorder writing to /Users/nicom/Documents/Projects/openai/letitgo/tmp/qlearning-results/openaigym.video.0.47400.video000001.json\n",
      "[2017-10-09 22:33:13,126] Starting new video recorder writing to /Users/nicom/Documents/Projects/openai/letitgo/tmp/qlearning-results/openaigym.video.0.47400.video000008.json\n",
      "[2017-10-09 22:33:13,135] Starting new video recorder writing to /Users/nicom/Documents/Projects/openai/letitgo/tmp/qlearning-results/openaigym.video.0.47400.video000027.json\n",
      "[2017-10-09 22:33:13,154] Starting new video recorder writing to /Users/nicom/Documents/Projects/openai/letitgo/tmp/qlearning-results/openaigym.video.0.47400.video000064.json\n",
      "[2017-10-09 22:33:13,183] Starting new video recorder writing to /Users/nicom/Documents/Projects/openai/letitgo/tmp/qlearning-results/openaigym.video.0.47400.video000125.json\n",
      "[2017-10-09 22:33:13,226] Starting new video recorder writing to /Users/nicom/Documents/Projects/openai/letitgo/tmp/qlearning-results/openaigym.video.0.47400.video000216.json\n",
      "[2017-10-09 22:33:13,288] Starting new video recorder writing to /Users/nicom/Documents/Projects/openai/letitgo/tmp/qlearning-results/openaigym.video.0.47400.video000343.json\n",
      "[2017-10-09 22:33:13,367] Starting new video recorder writing to /Users/nicom/Documents/Projects/openai/letitgo/tmp/qlearning-results/openaigym.video.0.47400.video000512.json\n",
      "[2017-10-09 22:33:13,464] Starting new video recorder writing to /Users/nicom/Documents/Projects/openai/letitgo/tmp/qlearning-results/openaigym.video.0.47400.video000729.json\n",
      "[2017-10-09 22:33:13,611] Starting new video recorder writing to /Users/nicom/Documents/Projects/openai/letitgo/tmp/qlearning-results/openaigym.video.0.47400.video001000.json\n",
      "[2017-10-09 22:33:14,203] Starting new video recorder writing to /Users/nicom/Documents/Projects/openai/letitgo/tmp/qlearning-results/openaigym.video.0.47400.video002000.json\n",
      "[2017-10-09 22:33:14,844] Starting new video recorder writing to /Users/nicom/Documents/Projects/openai/letitgo/tmp/qlearning-results/openaigym.video.0.47400.video003000.json\n",
      "[2017-10-09 22:33:15,589] Starting new video recorder writing to /Users/nicom/Documents/Projects/openai/letitgo/tmp/qlearning-results/openaigym.video.0.47400.video004000.json\n",
      "[2017-10-09 22:33:16,355] Starting new video recorder writing to /Users/nicom/Documents/Projects/openai/letitgo/tmp/qlearning-results/openaigym.video.0.47400.video005000.json\n",
      "[2017-10-09 22:33:17,211] Starting new video recorder writing to /Users/nicom/Documents/Projects/openai/letitgo/tmp/qlearning-results/openaigym.video.0.47400.video006000.json\n",
      "[2017-10-09 22:33:18,148] Starting new video recorder writing to /Users/nicom/Documents/Projects/openai/letitgo/tmp/qlearning-results/openaigym.video.0.47400.video007000.json\n",
      "[2017-10-09 22:33:19,151] Starting new video recorder writing to /Users/nicom/Documents/Projects/openai/letitgo/tmp/qlearning-results/openaigym.video.0.47400.video008000.json\n",
      "[2017-10-09 22:33:20,308] Starting new video recorder writing to /Users/nicom/Documents/Projects/openai/letitgo/tmp/qlearning-results/openaigym.video.0.47400.video009000.json\n",
      "[2017-10-09 22:33:21,590] Finished writing results. You can upload them to the scoreboard via gym.upload('/Users/nicom/Documents/Projects/openai/letitgo/tmp/qlearning-results')\n"
     ]
    },
    {
     "name": "stdout",
     "output_type": "stream",
     "text": [
      "\n"
     ]
    }
   ],
   "source": [
    "import math\n",
    "for episode in tqdm_notebook(range(N_EPISODES), desc='Episodes'):\n",
    "    s = env.reset()\n",
    "    done = False\n",
    "    total_reward = 0\n",
    "    while not done:\n",
    "        # Choose action gredily with possible random action for exploring\n",
    "        a = np.argmax(Q[s,:])\n",
    "        p = np.random.random()\n",
    "        _eps = 1.0 - (EPSILON / (1 + episode / 1000))\n",
    "        if p >= _eps:\n",
    "            a = env.action_space.sample()\n",
    "        # Take action\n",
    "        s1, r, done, _ = env.step(a)\n",
    "        # Update Q\n",
    "        Q[s,a] = Q[s,a] + ALPHA * (r + GAMMA * np.max(Q[s1,:]) - Q[s,a])\n",
    "        # Update total reward\n",
    "        total_reward += r\n",
    "        # Update state and loop\n",
    "        s = s1\n",
    "    # Add total reward to history\n",
    "    r_history.append(total_reward)\n",
    "    r_history_100.append(total_reward)\n",
    "    mean_r_history.append(np.mean(r_history))\n",
    "    mean_r_history_100.append(np.mean(r_history_100))\n",
    "env.close()"
   ]
  },
  {
   "cell_type": "markdown",
   "metadata": {},
   "source": [
    "## Plot mean reward"
   ]
  },
  {
   "cell_type": "code",
   "execution_count": 6,
   "metadata": {
    "collapsed": false
   },
   "outputs": [
    {
     "data": {
      "image/png": "[encoded data removed]",
      "text/plain": [
       "<matplotlib.figure.Figure at 0x1107aab00>"
      ]
     },
     "metadata": {},
     "output_type": "display_data"
    },
    {
     "data": {
      "image/png": "[encoded data removed]",
      "text/plain": [
       "<matplotlib.figure.Figure at 0x11190cb38>"
      ]
     },
     "metadata": {},
     "output_type": "display_data"
    }
   ],
   "source": [
    "import matplotlib.pyplot as plt\n",
    "plt.plot(mean_r_history)\n",
    "plt.show()\n",
    "plt.plot(mean_r_history_100)\n",
    "plt.show()"
   ]
  },
  {
   "cell_type": "markdown",
   "metadata": {
    "collapsed": true
   },
   "source": [
    "## OpenAI gym's evaluation"
   ]
  },
  {
   "cell_type": "code",
   "execution_count": 7,
   "metadata": {
    "collapsed": false
   },
   "outputs": [
    {
     "name": "stdout",
     "output_type": "stream",
     "text": [
      "{'episode_t_value': None, 'timestep_t_value': None, 'mean': 0.28999999999999998, 'error': 0.050418005797948563, 'number_episodes': 10000, 'number_timesteps': 155355, 'seconds_to_solve': None, 'seconds_in_total': 8.4187016487121582}\n"
     ]
    }
   ],
   "source": [
    "from gym.scoreboard.scoring import score_from_local\n",
    "print(score_from_local(outdir))"
   ]
  },
  {
   "cell_type": "markdown",
   "metadata": {},
   "source": [
    "## Q-Network\n",
    "Now we will try to solve the same problem using Q-Network (approximation of Q function using a NN). Remember that we have 16 states (16 inputs) and 4 possible actions"
   ]
  },
  {
   "cell_type": "code",
   "execution_count": 8,
   "metadata": {
    "collapsed": false
   },
   "outputs": [
    {
     "name": "stderr",
     "output_type": "stream",
     "text": [
      "[2017-10-09 22:33:24,429] Making new env: FrozenLake-v0\n",
      "[2017-10-09 22:33:24,438] Clearing 40 monitor files from previous run (because force=True was provided)\n"
     ]
    },
    {
     "data": {
      "text/plain": [
       "[42]"
      ]
     },
     "execution_count": 8,
     "metadata": {},
     "output_type": "execute_result"
    }
   ],
   "source": [
    "import tensorflow as tf\n",
    "# Rebuid environment\n",
    "env = gym.make(\"FrozenLake-v0\")\n",
    "# Setup wrapper\n",
    "outdir = 'tmp/qlearning-results'\n",
    "env = wrappers.Monitor(env, directory=outdir, force=True)\n",
    "# Set seed for replication \n",
    "env.seed(42)"
   ]
  },
  {
   "cell_type": "markdown",
   "metadata": {},
   "source": [
    "We will build a simple TF network, with no hidden layer"
   ]
  },
  {
   "cell_type": "code",
   "execution_count": 9,
   "metadata": {
    "collapsed": false
   },
   "outputs": [],
   "source": [
    "# Create inputs, weights, outputs and prediction (max)\n",
    "inputs = tf.placeholder(shape=[1,16], dtype=tf.float32)\n",
    "W = tf.Variable(tf.random_uniform([16,4],minval=0,maxval=0.01))\n",
    "output = tf.matmul(inputs, W)\n",
    "predicted = tf.argmax(output, axis=1)\n",
    "# Setup loss function\n",
    "target_Q = tf.placeholder(shape=[1,4], dtype=tf.float32)\n",
    "loss = tf.reduce_sum(tf.square(target_Q - output))\n",
    "trainer = tf.train.GradientDescentOptimizer(learning_rate = 0.1)\n",
    "updater = trainer.minimize(loss)\n",
    "# Histories\n",
    "r_history = []\n",
    "r_history_100 = deque(maxlen = 100)\n",
    "mean_r_history = []\n",
    "mean_r_history_100 = []"
   ]
  },
  {
   "cell_type": "markdown",
   "metadata": {},
   "source": [
    "Now run the network implementing the QN"
   ]
  },
  {
   "cell_type": "code",
   "execution_count": 10,
   "metadata": {
    "collapsed": false,
    "scrolled": true
   },
   "outputs": [
    {
     "name": "stderr",
     "output_type": "stream",
     "text": [
      "[2017-10-09 22:33:24,623] Starting new video recorder writing to /Users/nicom/Documents/Projects/openai/letitgo/tmp/qlearning-results/openaigym.video.1.47400.video000000.json\n",
      "[2017-10-09 22:33:24,662] Starting new video recorder writing to /Users/nicom/Documents/Projects/openai/letitgo/tmp/qlearning-results/openaigym.video.1.47400.video000001.json\n",
      "[2017-10-09 22:33:24,767] Starting new video recorder writing to /Users/nicom/Documents/Projects/openai/letitgo/tmp/qlearning-results/openaigym.video.1.47400.video000008.json\n",
      "[2017-10-09 22:33:24,920] Starting new video recorder writing to /Users/nicom/Documents/Projects/openai/letitgo/tmp/qlearning-results/openaigym.video.1.47400.video000027.json\n",
      "[2017-10-09 22:33:25,219] Starting new video recorder writing to /Users/nicom/Documents/Projects/openai/letitgo/tmp/qlearning-results/openaigym.video.1.47400.video000064.json\n",
      "[2017-10-09 22:33:25,814] Starting new video recorder writing to /Users/nicom/Documents/Projects/openai/letitgo/tmp/qlearning-results/openaigym.video.1.47400.video000125.json\n",
      "[2017-10-09 22:33:26,583] Starting new video recorder writing to /Users/nicom/Documents/Projects/openai/letitgo/tmp/qlearning-results/openaigym.video.1.47400.video000216.json\n",
      "[2017-10-09 22:33:27,524] Starting new video recorder writing to /Users/nicom/Documents/Projects/openai/letitgo/tmp/qlearning-results/openaigym.video.1.47400.video000343.json\n",
      "[2017-10-09 22:33:29,164] Starting new video recorder writing to /Users/nicom/Documents/Projects/openai/letitgo/tmp/qlearning-results/openaigym.video.1.47400.video000512.json\n",
      "[2017-10-09 22:33:31,750] Starting new video recorder writing to /Users/nicom/Documents/Projects/openai/letitgo/tmp/qlearning-results/openaigym.video.1.47400.video000729.json\n",
      "[2017-10-09 22:33:35,237] Starting new video recorder writing to /Users/nicom/Documents/Projects/openai/letitgo/tmp/qlearning-results/openaigym.video.1.47400.video001000.json\n",
      "[2017-10-09 22:33:49,752] Starting new video recorder writing to /Users/nicom/Documents/Projects/openai/letitgo/tmp/qlearning-results/openaigym.video.1.47400.video002000.json\n",
      "[2017-10-09 22:34:06,695] Starting new video recorder writing to /Users/nicom/Documents/Projects/openai/letitgo/tmp/qlearning-results/openaigym.video.1.47400.video003000.json\n",
      "[2017-10-09 22:34:25,571] Starting new video recorder writing to /Users/nicom/Documents/Projects/openai/letitgo/tmp/qlearning-results/openaigym.video.1.47400.video004000.json\n",
      "[2017-10-09 22:34:45,543] Starting new video recorder writing to /Users/nicom/Documents/Projects/openai/letitgo/tmp/qlearning-results/openaigym.video.1.47400.video005000.json\n",
      "[2017-10-09 22:35:06,213] Starting new video recorder writing to /Users/nicom/Documents/Projects/openai/letitgo/tmp/qlearning-results/openaigym.video.1.47400.video006000.json\n",
      "[2017-10-09 22:35:29,493] Starting new video recorder writing to /Users/nicom/Documents/Projects/openai/letitgo/tmp/qlearning-results/openaigym.video.1.47400.video007000.json\n",
      "[2017-10-09 22:35:51,434] Starting new video recorder writing to /Users/nicom/Documents/Projects/openai/letitgo/tmp/qlearning-results/openaigym.video.1.47400.video008000.json\n",
      "[2017-10-09 22:36:15,016] Starting new video recorder writing to /Users/nicom/Documents/Projects/openai/letitgo/tmp/qlearning-results/openaigym.video.1.47400.video009000.json\n",
      "[2017-10-09 22:36:37,197] Finished writing results. You can upload them to the scoreboard via gym.upload('/Users/nicom/Documents/Projects/openai/letitgo/tmp/qlearning-results')\n"
     ]
    },
    {
     "name": "stdout",
     "output_type": "stream",
     "text": [
      "\n"
     ]
    }
   ],
   "source": [
    "# Initialize network\n",
    "init = tf.global_variables_initializer()\n",
    "# Start network\n",
    "with tf.Session() as sess:\n",
    "    sess.run(init)\n",
    "    # Run episodes\n",
    "    for episode in tqdm_notebook(range(N_EPISODES), desc='Episodes'):\n",
    "        s = env.reset()\n",
    "        done = False\n",
    "        total_reward = 0\n",
    "        while not done:\n",
    "            # Estimate Q in current state. Current state is 1, other are 0s. A is the argmax, allQ is the output\n",
    "            a, allQ = sess.run([predicted,output],feed_dict={inputs:np.identity(16)[s:s+1]})\n",
    "            # Choose action gredily with possible random action for exploring\n",
    "            p = np.random.random()\n",
    "            _eps = 1.0 - (EPSILON / (1 + episode / 1000))\n",
    "            if p >= _eps:\n",
    "                a = env.action_space.sample()\n",
    "            else:\n",
    "                a = a[0]\n",
    "            # Take action\n",
    "            s1, r, done, _ = env.step(a)\n",
    "            # Update Q. First get max of Q(s1), than apply Bellman\n",
    "            Q1 = sess.run(output,feed_dict={inputs:np.identity(16)[s1:s1+1]})\n",
    "            maxQ1 = np.max(Q1)\n",
    "            targetQ = allQ\n",
    "            targetQ[0,a] = r + GAMMA * maxQ1\n",
    "            # Train network\n",
    "            _,W1 = sess.run([updater,W],feed_dict={inputs:np.identity(16)[s:s+1],target_Q:targetQ})\n",
    "            # Update total reward\n",
    "            total_reward += r\n",
    "            # Update state and loop\n",
    "            s = s1\n",
    "        # Add total reward to history\n",
    "        r_history.append(total_reward)\n",
    "        r_history_100.append(total_reward)\n",
    "        mean_r_history.append(np.mean(r_history))\n",
    "        mean_r_history_100.append(np.mean(r_history_100))\n",
    "env.close()"
   ]
  },
  {
   "cell_type": "markdown",
   "metadata": {},
   "source": [
    "## Plot QN results"
   ]
  },
  {
   "cell_type": "code",
   "execution_count": 11,
   "metadata": {
    "collapsed": false
   },
   "outputs": [
    {
     "data": {
      "image/png": "[encoded data removed]",
      "text/plain": [
       "<matplotlib.figure.Figure at 0x117de1630>"
      ]
     },
     "metadata": {},
     "output_type": "display_data"
    },
    {
     "data": {
      "image/png": "[encoded data removed]",
      "text/plain": [
       "<matplotlib.figure.Figure at 0x11191b278>"
      ]
     },
     "metadata": {},
     "output_type": "display_data"
    }
   ],
   "source": [
    "import matplotlib.pyplot as plt\n",
    "plt.plot(mean_r_history)\n",
    "plt.show()\n",
    "plt.plot(mean_r_history_100)\n",
    "plt.show()"
   ]
  },
  {
   "cell_type": "markdown",
   "metadata": {},
   "source": [
    "## OpenAI scoring"
   ]
  },
  {
   "cell_type": "code",
   "execution_count": 12,
   "metadata": {
    "collapsed": false
   },
   "outputs": [
    {
     "name": "stdout",
     "output_type": "stream",
     "text": [
      "{'episode_t_value': None, 'timestep_t_value': None, 'mean': 0.44, 'error': 0.055154105093292702, 'number_episodes': 10000, 'number_timesteps': 171423, 'seconds_to_solve': None, 'seconds_in_total': 192.51412892341614}\n"
     ]
    }
   ],
   "source": [
    "from gym.scoreboard.scoring import score_from_local\n",
    "print(score_from_local(outdir))"
   ]
  }
 ],
 "metadata": {
  "kernelspec": {
   "display_name": "Python 3",
   "language": "python",
   "name": "python3"
  },
  "language_info": {
   "codemirror_mode": {
    "name": "ipython",
    "version": 3
   },
   "file_extension": ".py",
   "mimetype": "text/x-python",
   "name": "python",
   "nbconvert_exporter": "python",
   "pygments_lexer": "ipython3",
   "version": "3.6.0"
  },
  "widgets": {
   "state": {
    "237064cc8ea44cff8c944231635de136": {
     "views": [
      {
       "cell_index": 1
      }
     ]
    },
    "3c519ed9964a40ea956f7e7ced063e40": {
     "views": [
      {
       "cell_index": 1
      }
     ]
    },
    "8e3fe6c004cf42cc8399965756663ab2": {
     "views": [
      {
       "cell_index": 1
      }
     ]
    },
    "9693194139ae44568e98f6979bc1b60a": {
     "views": [
      {
       "cell_index": 1
      }
     ]
    },
    "ac4f5f5ebfec443ba588edf8eab9963e": {
     "views": [
      {
       "cell_index": 9
      }
     ]
    },
    "bc6179e332154817a54e2ae93544e4df": {
     "views": [
      {
       "cell_index": 1
      }
     ]
    },
    "bf0446097f254e5889bd0ac13ce72bea": {
     "views": [
      {
       "cell_index": 1
      }
     ]
    },
    "c89885576ddf48d687303ac30d9892d0": {
     "views": [
      {
       "cell_index": 1
      }
     ]
    },
    "ddcd98a809054a7a82c4dd6b3a44a75d": {
     "views": [
      {
       "cell_index": 1
      }
     ]
    },
    "de1db04382e64bdf83a7737523ac714f": {
     "views": [
      {
       "cell_index": 1
      }
     ]
    },
    "df3f0e45cdde44228f989617a3afade0": {
     "views": [
      {
       "cell_index": 1
      }
     ]
    },
    "e18962fb49d7419093bbebf7cf64eefb": {
     "views": [
      {
       "cell_index": 19
      }
     ]
    }
   },
   "version": "1.2.0"
  }
 },
 "nbformat": 4,
 "nbformat_minor": 2
}
