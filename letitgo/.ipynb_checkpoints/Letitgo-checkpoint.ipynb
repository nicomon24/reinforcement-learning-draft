{
 "cells": [
  {
   "cell_type": "markdown",
   "metadata": {},
   "source": [
    "# Q-Learning in OpenAI's frozen lake\n",
    "We are going to implement basic Q-Learning in OpenAI's gym \"Frozen Lake v0\" and look at some statistics to know how well we are performing"
   ]
  },
  {
   "cell_type": "code",
   "execution_count": 1,
   "metadata": {
    "collapsed": true
   },
   "outputs": [],
   "source": [
    "# Suppress logging\n",
    "import logging\n",
    "logging.basicConfig(level=0)"
   ]
  },
  {
   "cell_type": "markdown",
   "metadata": {},
   "source": [
    "## Load environment"
   ]
  },
  {
   "cell_type": "code",
   "execution_count": 2,
   "metadata": {
    "collapsed": false
   },
   "outputs": [
    {
     "name": "stderr",
     "output_type": "stream",
     "text": [
      "INFO:gym.envs.registration:Making new env: FrozenLake-v0\n",
      "[2017-10-09 12:26:32,415] Making new env: FrozenLake-v0\n",
      "INFO:gym.wrappers.monitoring:Clearing 80 monitor files from previous run (because force=True was provided)\n",
      "[2017-10-09 12:26:33,022] Clearing 80 monitor files from previous run (because force=True was provided)\n"
     ]
    },
    {
     "data": {
      "text/plain": [
       "[42]"
      ]
     },
     "execution_count": 2,
     "metadata": {},
     "output_type": "execute_result"
    }
   ],
   "source": [
    "import gym\n",
    "from gym import wrappers\n",
    "# Create env\n",
    "env = gym.make(\"FrozenLake-v0\")\n",
    "# Setup wrapper\n",
    "outdir = 'tmp/qlearning-results'\n",
    "env = wrappers.Monitor(env, directory=outdir, force=True)\n",
    "# Set seed for replication \n",
    "env.seed(42)"
   ]
  },
  {
   "cell_type": "markdown",
   "metadata": {},
   "source": [
    "## Setup Q table and support structures"
   ]
  },
  {
   "cell_type": "code",
   "execution_count": 3,
   "metadata": {
    "collapsed": false
   },
   "outputs": [],
   "source": [
    "import numpy as np\n",
    "from collections import deque\n",
    "# Create a table with dimensions: state-dimensions x action-dimension\n",
    "Q = np.zeros((env.observation_space.n, env.action_space.n))\n",
    "# Create a list of all the previous rewards for statistics\n",
    "r_history = []\n",
    "r_history_100 = deque(maxlen = 100)\n",
    "mean_r_history = []\n",
    "mean_r_history_100 = []"
   ]
  },
  {
   "cell_type": "markdown",
   "metadata": {},
   "source": [
    "## Parameters tuning"
   ]
  },
  {
   "cell_type": "code",
   "execution_count": 4,
   "metadata": {
    "collapsed": true
   },
   "outputs": [],
   "source": [
    "GAMMA = 0.9\n",
    "ALPHA = 0.8\n",
    "EPSILON = 0.8\n",
    "N_EPISODES = 10"
   ]
  },
  {
   "cell_type": "markdown",
   "metadata": {},
   "source": [
    "## Run the agent"
   ]
  },
  {
   "cell_type": "code",
   "execution_count": 5,
   "metadata": {
    "collapsed": false
   },
   "outputs": [
    {
     "name": "stderr",
     "output_type": "stream",
     "text": [
      "INFO:gym.monitoring.video_recorder:Starting new video recorder writing to /Users/nicom/Documents/Projects/openai/letitgo/tmp/qlearning-results/openaigym.video.0.44218.video000000.json\n",
      "[2017-10-09 12:26:33,133] Starting new video recorder writing to /Users/nicom/Documents/Projects/openai/letitgo/tmp/qlearning-results/openaigym.video.0.44218.video000000.json\n",
      "INFO:gym.monitoring.video_recorder:Starting new video recorder writing to /Users/nicom/Documents/Projects/openai/letitgo/tmp/qlearning-results/openaigym.video.0.44218.video000001.json\n",
      "[2017-10-09 12:26:33,144] Starting new video recorder writing to /Users/nicom/Documents/Projects/openai/letitgo/tmp/qlearning-results/openaigym.video.0.44218.video000001.json\n",
      "INFO:gym.monitoring.video_recorder:Starting new video recorder writing to /Users/nicom/Documents/Projects/openai/letitgo/tmp/qlearning-results/openaigym.video.0.44218.video000008.json\n",
      "[2017-10-09 12:26:33,153] Starting new video recorder writing to /Users/nicom/Documents/Projects/openai/letitgo/tmp/qlearning-results/openaigym.video.0.44218.video000008.json\n",
      "INFO:gym.monitoring.video_recorder:Starting new video recorder writing to /Users/nicom/Documents/Projects/openai/letitgo/tmp/qlearning-results/openaigym.video.0.44218.video000027.json\n",
      "[2017-10-09 12:26:33,197] Starting new video recorder writing to /Users/nicom/Documents/Projects/openai/letitgo/tmp/qlearning-results/openaigym.video.0.44218.video000027.json\n",
      "INFO:gym.monitoring.video_recorder:Starting new video recorder writing to /Users/nicom/Documents/Projects/openai/letitgo/tmp/qlearning-results/openaigym.video.0.44218.video000064.json\n",
      "[2017-10-09 12:26:33,287] Starting new video recorder writing to /Users/nicom/Documents/Projects/openai/letitgo/tmp/qlearning-results/openaigym.video.0.44218.video000064.json\n",
      "INFO:gym.monitoring.video_recorder:Starting new video recorder writing to /Users/nicom/Documents/Projects/openai/letitgo/tmp/qlearning-results/openaigym.video.0.44218.video000125.json\n",
      "[2017-10-09 12:26:33,355] Starting new video recorder writing to /Users/nicom/Documents/Projects/openai/letitgo/tmp/qlearning-results/openaigym.video.0.44218.video000125.json\n",
      "INFO:gym.monitoring.video_recorder:Starting new video recorder writing to /Users/nicom/Documents/Projects/openai/letitgo/tmp/qlearning-results/openaigym.video.0.44218.video000216.json\n",
      "[2017-10-09 12:26:33,436] Starting new video recorder writing to /Users/nicom/Documents/Projects/openai/letitgo/tmp/qlearning-results/openaigym.video.0.44218.video000216.json\n",
      "INFO:gym.monitoring.video_recorder:Starting new video recorder writing to /Users/nicom/Documents/Projects/openai/letitgo/tmp/qlearning-results/openaigym.video.0.44218.video000343.json\n",
      "[2017-10-09 12:26:33,572] Starting new video recorder writing to /Users/nicom/Documents/Projects/openai/letitgo/tmp/qlearning-results/openaigym.video.0.44218.video000343.json\n",
      "INFO:gym.monitoring.video_recorder:Starting new video recorder writing to /Users/nicom/Documents/Projects/openai/letitgo/tmp/qlearning-results/openaigym.video.0.44218.video000512.json\n",
      "[2017-10-09 12:26:33,677] Starting new video recorder writing to /Users/nicom/Documents/Projects/openai/letitgo/tmp/qlearning-results/openaigym.video.0.44218.video000512.json\n",
      "INFO:gym.monitoring.video_recorder:Starting new video recorder writing to /Users/nicom/Documents/Projects/openai/letitgo/tmp/qlearning-results/openaigym.video.0.44218.video000729.json\n",
      "[2017-10-09 12:26:33,799] Starting new video recorder writing to /Users/nicom/Documents/Projects/openai/letitgo/tmp/qlearning-results/openaigym.video.0.44218.video000729.json\n",
      "INFO:gym.monitoring.video_recorder:Starting new video recorder writing to /Users/nicom/Documents/Projects/openai/letitgo/tmp/qlearning-results/openaigym.video.0.44218.video001000.json\n",
      "[2017-10-09 12:26:33,949] Starting new video recorder writing to /Users/nicom/Documents/Projects/openai/letitgo/tmp/qlearning-results/openaigym.video.0.44218.video001000.json\n",
      "INFO:gym.monitoring.video_recorder:Starting new video recorder writing to /Users/nicom/Documents/Projects/openai/letitgo/tmp/qlearning-results/openaigym.video.0.44218.video002000.json\n",
      "[2017-10-09 12:26:34,541] Starting new video recorder writing to /Users/nicom/Documents/Projects/openai/letitgo/tmp/qlearning-results/openaigym.video.0.44218.video002000.json\n",
      "INFO:gym.monitoring.video_recorder:Starting new video recorder writing to /Users/nicom/Documents/Projects/openai/letitgo/tmp/qlearning-results/openaigym.video.0.44218.video003000.json\n",
      "[2017-10-09 12:26:35,249] Starting new video recorder writing to /Users/nicom/Documents/Projects/openai/letitgo/tmp/qlearning-results/openaigym.video.0.44218.video003000.json\n",
      "INFO:gym.monitoring.video_recorder:Starting new video recorder writing to /Users/nicom/Documents/Projects/openai/letitgo/tmp/qlearning-results/openaigym.video.0.44218.video004000.json\n",
      "[2017-10-09 12:26:36,294] Starting new video recorder writing to /Users/nicom/Documents/Projects/openai/letitgo/tmp/qlearning-results/openaigym.video.0.44218.video004000.json\n",
      "INFO:gym.monitoring.video_recorder:Starting new video recorder writing to /Users/nicom/Documents/Projects/openai/letitgo/tmp/qlearning-results/openaigym.video.0.44218.video005000.json\n",
      "[2017-10-09 12:26:37,150] Starting new video recorder writing to /Users/nicom/Documents/Projects/openai/letitgo/tmp/qlearning-results/openaigym.video.0.44218.video005000.json\n",
      "INFO:gym.monitoring.video_recorder:Starting new video recorder writing to /Users/nicom/Documents/Projects/openai/letitgo/tmp/qlearning-results/openaigym.video.0.44218.video006000.json\n",
      "[2017-10-09 12:26:38,006] Starting new video recorder writing to /Users/nicom/Documents/Projects/openai/letitgo/tmp/qlearning-results/openaigym.video.0.44218.video006000.json\n",
      "INFO:gym.monitoring.video_recorder:Starting new video recorder writing to /Users/nicom/Documents/Projects/openai/letitgo/tmp/qlearning-results/openaigym.video.0.44218.video007000.json\n",
      "[2017-10-09 12:26:39,038] Starting new video recorder writing to /Users/nicom/Documents/Projects/openai/letitgo/tmp/qlearning-results/openaigym.video.0.44218.video007000.json\n",
      "INFO:gym.monitoring.video_recorder:Starting new video recorder writing to /Users/nicom/Documents/Projects/openai/letitgo/tmp/qlearning-results/openaigym.video.0.44218.video008000.json\n",
      "[2017-10-09 12:26:40,085] Starting new video recorder writing to /Users/nicom/Documents/Projects/openai/letitgo/tmp/qlearning-results/openaigym.video.0.44218.video008000.json\n",
      "INFO:gym.monitoring.video_recorder:Starting new video recorder writing to /Users/nicom/Documents/Projects/openai/letitgo/tmp/qlearning-results/openaigym.video.0.44218.video009000.json\n",
      "[2017-10-09 12:26:41,196] Starting new video recorder writing to /Users/nicom/Documents/Projects/openai/letitgo/tmp/qlearning-results/openaigym.video.0.44218.video009000.json\n",
      "INFO:gym.monitoring.video_recorder:Starting new video recorder writing to /Users/nicom/Documents/Projects/openai/letitgo/tmp/qlearning-results/openaigym.video.0.44218.video010000.json\n",
      "[2017-10-09 12:26:42,509] Starting new video recorder writing to /Users/nicom/Documents/Projects/openai/letitgo/tmp/qlearning-results/openaigym.video.0.44218.video010000.json\n",
      "INFO:gym.monitoring.video_recorder:Starting new video recorder writing to /Users/nicom/Documents/Projects/openai/letitgo/tmp/qlearning-results/openaigym.video.0.44218.video011000.json\n",
      "[2017-10-09 12:26:43,790] Starting new video recorder writing to /Users/nicom/Documents/Projects/openai/letitgo/tmp/qlearning-results/openaigym.video.0.44218.video011000.json\n",
      "INFO:gym.monitoring.video_recorder:Starting new video recorder writing to /Users/nicom/Documents/Projects/openai/letitgo/tmp/qlearning-results/openaigym.video.0.44218.video012000.json\n",
      "[2017-10-09 12:26:45,373] Starting new video recorder writing to /Users/nicom/Documents/Projects/openai/letitgo/tmp/qlearning-results/openaigym.video.0.44218.video012000.json\n",
      "INFO:gym.monitoring.video_recorder:Starting new video recorder writing to /Users/nicom/Documents/Projects/openai/letitgo/tmp/qlearning-results/openaigym.video.0.44218.video013000.json\n",
      "[2017-10-09 12:26:46,709] Starting new video recorder writing to /Users/nicom/Documents/Projects/openai/letitgo/tmp/qlearning-results/openaigym.video.0.44218.video013000.json\n",
      "INFO:gym.monitoring.video_recorder:Starting new video recorder writing to /Users/nicom/Documents/Projects/openai/letitgo/tmp/qlearning-results/openaigym.video.0.44218.video014000.json\n",
      "[2017-10-09 12:26:47,981] Starting new video recorder writing to /Users/nicom/Documents/Projects/openai/letitgo/tmp/qlearning-results/openaigym.video.0.44218.video014000.json\n",
      "INFO:gym.monitoring.video_recorder:Starting new video recorder writing to /Users/nicom/Documents/Projects/openai/letitgo/tmp/qlearning-results/openaigym.video.0.44218.video015000.json\n",
      "[2017-10-09 12:26:49,380] Starting new video recorder writing to /Users/nicom/Documents/Projects/openai/letitgo/tmp/qlearning-results/openaigym.video.0.44218.video015000.json\n",
      "INFO:gym.monitoring.video_recorder:Starting new video recorder writing to /Users/nicom/Documents/Projects/openai/letitgo/tmp/qlearning-results/openaigym.video.0.44218.video016000.json\n",
      "[2017-10-09 12:26:50,783] Starting new video recorder writing to /Users/nicom/Documents/Projects/openai/letitgo/tmp/qlearning-results/openaigym.video.0.44218.video016000.json\n",
      "INFO:gym.monitoring.video_recorder:Starting new video recorder writing to /Users/nicom/Documents/Projects/openai/letitgo/tmp/qlearning-results/openaigym.video.0.44218.video017000.json\n",
      "[2017-10-09 12:26:52,292] Starting new video recorder writing to /Users/nicom/Documents/Projects/openai/letitgo/tmp/qlearning-results/openaigym.video.0.44218.video017000.json\n",
      "INFO:gym.monitoring.video_recorder:Starting new video recorder writing to /Users/nicom/Documents/Projects/openai/letitgo/tmp/qlearning-results/openaigym.video.0.44218.video018000.json\n",
      "[2017-10-09 12:26:53,880] Starting new video recorder writing to /Users/nicom/Documents/Projects/openai/letitgo/tmp/qlearning-results/openaigym.video.0.44218.video018000.json\n",
      "INFO:gym.monitoring.video_recorder:Starting new video recorder writing to /Users/nicom/Documents/Projects/openai/letitgo/tmp/qlearning-results/openaigym.video.0.44218.video019000.json\n",
      "[2017-10-09 12:26:55,471] Starting new video recorder writing to /Users/nicom/Documents/Projects/openai/letitgo/tmp/qlearning-results/openaigym.video.0.44218.video019000.json\n",
      "INFO:gym.monitoring.video_recorder:Starting new video recorder writing to /Users/nicom/Documents/Projects/openai/letitgo/tmp/qlearning-results/openaigym.video.0.44218.video020000.json\n",
      "[2017-10-09 12:26:57,171] Starting new video recorder writing to /Users/nicom/Documents/Projects/openai/letitgo/tmp/qlearning-results/openaigym.video.0.44218.video020000.json\n",
      "INFO:gym.monitoring.video_recorder:Starting new video recorder writing to /Users/nicom/Documents/Projects/openai/letitgo/tmp/qlearning-results/openaigym.video.0.44218.video021000.json\n",
      "[2017-10-09 12:26:59,114] Starting new video recorder writing to /Users/nicom/Documents/Projects/openai/letitgo/tmp/qlearning-results/openaigym.video.0.44218.video021000.json\n",
      "INFO:gym.monitoring.video_recorder:Starting new video recorder writing to /Users/nicom/Documents/Projects/openai/letitgo/tmp/qlearning-results/openaigym.video.0.44218.video022000.json\n",
      "[2017-10-09 12:27:01,066] Starting new video recorder writing to /Users/nicom/Documents/Projects/openai/letitgo/tmp/qlearning-results/openaigym.video.0.44218.video022000.json\n",
      "INFO:gym.monitoring.video_recorder:Starting new video recorder writing to /Users/nicom/Documents/Projects/openai/letitgo/tmp/qlearning-results/openaigym.video.0.44218.video023000.json\n",
      "[2017-10-09 12:27:02,885] Starting new video recorder writing to /Users/nicom/Documents/Projects/openai/letitgo/tmp/qlearning-results/openaigym.video.0.44218.video023000.json\n",
      "INFO:gym.monitoring.video_recorder:Starting new video recorder writing to /Users/nicom/Documents/Projects/openai/letitgo/tmp/qlearning-results/openaigym.video.0.44218.video024000.json\n",
      "[2017-10-09 12:27:05,048] Starting new video recorder writing to /Users/nicom/Documents/Projects/openai/letitgo/tmp/qlearning-results/openaigym.video.0.44218.video024000.json\n",
      "INFO:gym.monitoring.video_recorder:Starting new video recorder writing to /Users/nicom/Documents/Projects/openai/letitgo/tmp/qlearning-results/openaigym.video.0.44218.video025000.json\n",
      "[2017-10-09 12:27:07,110] Starting new video recorder writing to /Users/nicom/Documents/Projects/openai/letitgo/tmp/qlearning-results/openaigym.video.0.44218.video025000.json\n",
      "INFO:gym.monitoring.video_recorder:Starting new video recorder writing to /Users/nicom/Documents/Projects/openai/letitgo/tmp/qlearning-results/openaigym.video.0.44218.video026000.json\n",
      "[2017-10-09 12:27:09,106] Starting new video recorder writing to /Users/nicom/Documents/Projects/openai/letitgo/tmp/qlearning-results/openaigym.video.0.44218.video026000.json\n",
      "INFO:gym.monitoring.video_recorder:Starting new video recorder writing to /Users/nicom/Documents/Projects/openai/letitgo/tmp/qlearning-results/openaigym.video.0.44218.video027000.json\n",
      "[2017-10-09 12:27:10,992] Starting new video recorder writing to /Users/nicom/Documents/Projects/openai/letitgo/tmp/qlearning-results/openaigym.video.0.44218.video027000.json\n",
      "INFO:gym.monitoring.video_recorder:Starting new video recorder writing to /Users/nicom/Documents/Projects/openai/letitgo/tmp/qlearning-results/openaigym.video.0.44218.video028000.json\n",
      "[2017-10-09 12:27:13,633] Starting new video recorder writing to /Users/nicom/Documents/Projects/openai/letitgo/tmp/qlearning-results/openaigym.video.0.44218.video028000.json\n",
      "INFO:gym.monitoring.video_recorder:Starting new video recorder writing to /Users/nicom/Documents/Projects/openai/letitgo/tmp/qlearning-results/openaigym.video.0.44218.video029000.json\n",
      "[2017-10-09 12:27:16,219] Starting new video recorder writing to /Users/nicom/Documents/Projects/openai/letitgo/tmp/qlearning-results/openaigym.video.0.44218.video029000.json\n",
      "INFO:gym.wrappers.monitoring:Finished writing results. You can upload them to the scoreboard via gym.upload('/Users/nicom/Documents/Projects/openai/letitgo/tmp/qlearning-results')\n",
      "[2017-10-09 12:27:18,736] Finished writing results. You can upload them to the scoreboard via gym.upload('/Users/nicom/Documents/Projects/openai/letitgo/tmp/qlearning-results')\n"
     ]
    }
   ],
   "source": [
    "import math\n",
    "for episode in range(N_EPISODES):\n",
    "    s = env.reset()\n",
    "    done = False\n",
    "    total_reward = 0\n",
    "    while not done:\n",
    "        # Choose action gredily with possible random action for exploring\n",
    "        a = np.argmax(Q[s,:])\n",
    "        p = np.random.random()\n",
    "        _eps = 1.0 - (EPSILON / (1 + episode / 1000))\n",
    "        if p >= _eps:\n",
    "            a = env.action_space.sample()\n",
    "        # Take action\n",
    "        s1, r, done, _ = env.step(a)\n",
    "        # Update Q\n",
    "        Q[s,a] = Q[s,a] + ALPHA * (r + GAMMA * np.max(Q[s1,:]) - Q[s,a])\n",
    "        # Update total reward\n",
    "        total_reward += r\n",
    "        # Update state and loop\n",
    "        s = s1\n",
    "    # Add total reward to history\n",
    "    r_history.append(total_reward)\n",
    "    r_history_100.append(total_reward)\n",
    "    mean_r_history.append(np.mean(r_history))\n",
    "    mean_r_history_100.append(np.mean(r_history_100))\n",
    "env.close()"
   ]
  },
  {
   "cell_type": "markdown",
   "metadata": {},
   "source": [
    "## Plot mean reward"
   ]
  },
  {
   "cell_type": "code",
   "execution_count": 6,
   "metadata": {
    "collapsed": false
   },
   "outputs": [
    {
     "data": {
      "image/png": "[encoded data removed]",
      "text/plain": [
       "<matplotlib.figure.Figure at 0x10af02860>"
      ]
     },
     "metadata": {},
     "output_type": "display_data"
    },
    {
     "data": {
      "image/png": "[encoded data removed]",
      "text/plain": [
       "<matplotlib.figure.Figure at 0x105e1a860>"
      ]
     },
     "metadata": {},
     "output_type": "display_data"
    }
   ],
   "source": [
    "import matplotlib.pyplot as plt\n",
    "plt.plot(mean_r_history)\n",
    "plt.show()\n",
    "plt.plot(mean_r_history_100)\n",
    "plt.show()"
   ]
  },
  {
   "cell_type": "markdown",
   "metadata": {
    "collapsed": true
   },
   "source": [
    "## OpenAI gym's evaluation"
   ]
  },
  {
   "cell_type": "code",
   "execution_count": 8,
   "metadata": {
    "collapsed": false
   },
   "outputs": [
    {
     "name": "stdout",
     "output_type": "stream",
     "text": [
      "{'episode_t_value': None, 'timestep_t_value': None, 'mean': 0.46999999999999997, 'error': 0.055455465393190122, 'number_episodes': 30000, 'number_timesteps': 647458, 'seconds_to_solve': None, 'seconds_in_total': 45.439653158187866}\n"
     ]
    }
   ],
   "source": [
    "from gym.scoreboard.scoring import score_from_local\n",
    "print(score_from_local(outdir))"
   ]
  },
  {
   "cell_type": "markdown",
   "metadata": {},
   "source": [
    "## Q-Network\n",
    "Now we will try to solve the same problem using Q-Network (approximation of Q function using a NN). Remember that we have 16 states (16 inputs) and 4 possible actions"
   ]
  },
  {
   "cell_type": "code",
   "execution_count": 16,
   "metadata": {
    "collapsed": false
   },
   "outputs": [
    {
     "name": "stderr",
     "output_type": "stream",
     "text": [
      "INFO:gym.envs.registration:Making new env: FrozenLake-v0\n",
      "[2017-10-09 12:50:08,232] Making new env: FrozenLake-v0\n"
     ]
    },
    {
     "name": "stdout",
     "output_type": "stream",
     "text": [
      "1.0.0\n"
     ]
    }
   ],
   "source": [
    "import tensorflow as tf\n",
    "# Rebuid environment\n",
    "env = gym.make(\"FrozenLake-v0\")\n",
    "print(tf.VERSION)"
   ]
  },
  {
   "cell_type": "markdown",
   "metadata": {},
   "source": [
    "We will build a simple TF network, with no hidden layer"
   ]
  },
  {
   "cell_type": "code",
   "execution_count": 18,
   "metadata": {
    "collapsed": false
   },
   "outputs": [],
   "source": [
    "# Create inputs, weights, outputs and prediction (max)\n",
    "inputs = tf.placeholder(shape=[1,16], dtype=tf.float32)\n",
    "W = tf.Variable(tf.random_uniform([16,4],minval=0,maxval=0.01))\n",
    "output = tf.matmul(inputs, W)\n",
    "predicted = tf.argmax(output, axis=0)\n",
    "# Setup loss function\n",
    "target_Q = tf.placeholder(shape=[1,4], dtype=tf.float32)\n",
    "loss = tf.reduce_sum(tf.square(target_Q - output))\n",
    "trainer = tf.train.GradientDescentOptimizer(learning_rate = 0.1)\n",
    "updater = trainer.minimize(loss)"
   ]
  },
  {
   "cell_type": "markdown",
   "metadata": {},
   "source": [
    "Now run the network implementing the QN"
   ]
  },
  {
   "cell_type": "code",
   "execution_count": null,
   "metadata": {
    "collapsed": true
   },
   "outputs": [],
   "source": [
    "# Initializ network\n",
    "init = tf.initialize_all_variables()\n",
    "# Setup learning parameters\n",
    "y = .99\n",
    "e = 0.1\n",
    "# Start network\n",
    "with tf.Session() as sess:\n",
    "    sess.run(init)\n",
    "    # Run episodes\n",
    "    for episode in range(N_EPISODES):\n",
    "        s = env.reset()\n",
    "        done = False\n",
    "        total_reward = 0\n",
    "        while not done:\n",
    "            print(\"Estimating state:\", s)\n",
    "            # Estimate Q in current state. Current state is 1, other are 0s\n",
    "            a, allQ = sess.run([predicted,output],feed_dict={inputs:np.identity(16)[s:s+1]})\n",
    "            print(a, allQ)\n",
    "            # Choose action gredily with possible random action for exploring\n",
    "            done = True\n",
    "env.close()"
   ]
  }
 ],
 "metadata": {
  "kernelspec": {
   "display_name": "Python 3",
   "language": "python",
   "name": "python3"
  },
  "language_info": {
   "codemirror_mode": {
    "name": "ipython",
    "version": 3
   },
   "file_extension": ".py",
   "mimetype": "text/x-python",
   "name": "python",
   "nbconvert_exporter": "python",
   "pygments_lexer": "ipython3",
   "version": "3.6.0"
  }
 },
 "nbformat": 4,
 "nbformat_minor": 2
}
