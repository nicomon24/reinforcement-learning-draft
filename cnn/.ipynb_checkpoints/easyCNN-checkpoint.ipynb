{
 "cells": [
  {
   "cell_type": "markdown",
   "metadata": {
    "collapsed": true
   },
   "source": [
    "# Basic CNN using tensorflow\n",
    "DIY CNN using tensorflow to test capabilities on MNIST. First we need to load the dataset"
   ]
  },
  {
   "cell_type": "code",
   "execution_count": 46,
   "metadata": {
    "collapsed": false,
    "scrolled": true
   },
   "outputs": [
    {
     "name": "stdout",
     "output_type": "stream",
     "text": [
      "Extracting MNIST_data/train-labels-idx1-ubyte.gz\n",
      "Extracting MNIST_data/t10k-labels-idx1-ubyte.gz\n",
      "Train-images: (6000, 28, 28, 1)\n",
      "Train-labels: (6000,)\n",
      "Test: (1000, 28, 28, 1)\n",
      "Test-labels: (1000,)\n"
     ]
    },
    {
     "data": {
      "text/plain": [
       "'\\ntrain_images_flat = []\\nfor image in train_images[:,:,:,0]:\\n    train_images_flat.append(image.flatten())\\ntrain_images_flat = np.array(train_images_flat)\\nprint(train_images_flat.shape)\\n\\ntest_images_flat = []\\nfor image in test_images[:,:,:,0]:\\n    test_images_flat.append(image.flatten())\\ntest_images_flat = np.array(test_images_flat)\\nprint(test_images_flat.shape)\\n'"
      ]
     },
     "execution_count": 46,
     "metadata": {},
     "output_type": "execute_result"
    }
   ],
   "source": [
    "import gzip\n",
    "import numpy as np\n",
    "import matplotlib.pyplot as plt\n",
    "import tensorflow as tf\n",
    "from tqdm import tnrange, tqdm_notebook\n",
    "\n",
    "DATA_DIR = 'MNIST_data/'\n",
    "TRAIN_IMAGES = 'train-images-idx3-ubyte.gz'\n",
    "TRAIN_LABELS = 'train-labels-idx1-ubyte.gz'\n",
    "TEST_IMAGES = 't10k-images-idx3-ubyte.gz'\n",
    "TEST_LABELS = 't10k-labels-idx1-ubyte.gz'\n",
    "\n",
    "def _read32(bytestream):\n",
    "    dt = np.dtype(np.uint32).newbyteorder('>')\n",
    "    return np.frombuffer(bytestream.read(4), dtype=dt)\n",
    "\n",
    "def load_images(filename):\n",
    "    with gzip.open(filename) as bytestream:\n",
    "        magic = _read32(bytestream)\n",
    "        if magic != 2051:\n",
    "            raise ValueError(\"Invalide magic number in file\")\n",
    "        num_images = _read32(bytestream)[0]\n",
    "        rows = _read32(bytestream)[0]\n",
    "        cols = _read32(bytestream)[0]\n",
    "        buf = bytestream.read(rows * cols * num_images)\n",
    "        data = np.frombuffer(buf, dtype=np.uint8)\n",
    "        data = data.reshape(num_images, rows, cols, 1)\n",
    "        return data\n",
    "    \n",
    "def dense_to_one_hot(labels_dense, num_classes=10):\n",
    "    \"\"\"Convert class labels from scalars to one-hot vectors.\"\"\"\n",
    "    num_labels = labels_dense.shape[0]\n",
    "    index_offset = numpy.arange(num_labels) * num_classes\n",
    "    labels_one_hot = numpy.zeros((num_labels, num_classes))\n",
    "    labels_one_hot.flat[index_offset + labels_dense.ravel()] = 1\n",
    "    return labels_one_hot\n",
    "\n",
    "def load_labels(filename, one_hot=False):\n",
    "    \"\"\"Extract the labels into a 1D uint8 numpy array [index].\"\"\"\n",
    "    print('Extracting', filename)\n",
    "    with gzip.open(filename) as bytestream:\n",
    "        magic = _read32(bytestream)\n",
    "        if magic != 2049:\n",
    "            raise ValueError(\n",
    "              'Invalid magic number %d in MNIST label file: %s' %\n",
    "              (magic, filename))\n",
    "        num_items = _read32(bytestream)[0]\n",
    "        buf = bytestream.read(num_items)\n",
    "        labels = np.frombuffer(buf, dtype=np.uint8)\n",
    "        if one_hot:\n",
    "            return dense_to_one_hot(labels)\n",
    "        return labels\n",
    "    \n",
    "train_images = load_images(DATA_DIR + TRAIN_IMAGES)[:6000]\n",
    "train_labels = load_labels(DATA_DIR + TRAIN_LABELS)[:6000]\n",
    "test_images = load_images(DATA_DIR + TEST_IMAGES)[:1000]\n",
    "test_labels = load_labels(DATA_DIR + TEST_LABELS)[:1000]\n",
    "print(\"Train-images:\", train_images.shape)\n",
    "print(\"Train-labels:\", train_labels.shape)\n",
    "print(\"Test:\", test_images.shape)\n",
    "print(\"Test-labels:\", test_labels.shape)\n",
    "\n",
    "'''\n",
    "train_images_flat = []\n",
    "for image in train_images[:,:,:,0]:\n",
    "    train_images_flat.append(image.flatten())\n",
    "train_images_flat = np.array(train_images_flat)\n",
    "print(train_images_flat.shape)\n",
    "\n",
    "test_images_flat = []\n",
    "for image in test_images[:,:,:,0]:\n",
    "    test_images_flat.append(image.flatten())\n",
    "test_images_flat = np.array(test_images_flat)\n",
    "print(test_images_flat.shape)\n",
    "'''"
   ]
  },
  {
   "cell_type": "code",
   "execution_count": 47,
   "metadata": {
    "collapsed": false
   },
   "outputs": [
    {
     "data": {
      "image/png": "[encoded data removed]",
      "text/plain": [
       "<matplotlib.figure.Figure at 0x12f363748>"
      ]
     },
     "metadata": {},
     "output_type": "display_data"
    },
    {
     "name": "stdout",
     "output_type": "stream",
     "text": [
      "Label: 5\n"
     ]
    }
   ],
   "source": [
    "# Print the first image as test\n",
    "plt.imshow(train_images[0,:,:,0])\n",
    "plt.show()\n",
    "print(\"Label:\", train_labels[0])"
   ]
  },
  {
   "cell_type": "markdown",
   "metadata": {},
   "source": [
    "## NN dense with TF\n",
    "We are going to implement a simple dense NN using tensorflow (not CNN). This won't be very accurate I think. The number of inputs is 784 (28^2). We will use a single hidden layer of variable size. The output is a 10-class softmax representing the estimated digit. We need first to define a layer, then the network"
   ]
  },
  {
   "cell_type": "code",
   "execution_count": 48,
   "metadata": {
    "collapsed": true
   },
   "outputs": [],
   "source": [
    "class Layer:\n",
    "    \n",
    "    # Bias will turn on/off bias at the activation side, zeros will set all weights to zero initially\n",
    "    def __init__(self, input_size, output_size, f, bias=True, zeros=False):\n",
    "        if zeros:\n",
    "            self.W = np.zeros((input_size, output_size), dtype=np.float32)\n",
    "        else:\n",
    "            self.W = tf.random_normal(shape=(input_size, output_size))\n",
    "        self.W = tf.Variable(self.W)\n",
    "        \n",
    "        self.bias = bias\n",
    "        if bias:\n",
    "            self.b = tf.Variable(np.zeros(output_size).astype(np.float32))\n",
    "        \n",
    "        self.f = f\n",
    "        \n",
    "    def forward(self, X):\n",
    "        if self.bias:\n",
    "            a = tf.matmul(X, self.W) + self.b\n",
    "        else:\n",
    "            a = tf.matmul(X, self.W)\n",
    "        return self.f(a)"
   ]
  },
  {
   "cell_type": "code",
   "execution_count": 49,
   "metadata": {
    "collapsed": false
   },
   "outputs": [],
   "source": [
    "class Model:\n",
    "    \n",
    "    def __init__(self, input_size, output_size, hidden_layer_sizes = []):\n",
    "        self.layers = []\n",
    "        # Add hidden layers\n",
    "        prev_dim = input_size\n",
    "        for layer_size in hidden_layer_sizes:\n",
    "            layer = Layer(prev_dim, layer_size, tf.nn.tanh)\n",
    "            self.layers.append(layer)\n",
    "            prev_dim = layer_size\n",
    "        # Define placeholder\n",
    "        self.X = tf.placeholder(tf.float32, shape=(None, input_size), name='X')\n",
    "        self.Y = tf.placeholder(tf.int64, shape=(None, ), name='Y')\n",
    "        # Compute output\n",
    "        Z = self.X\n",
    "        for layer in self.layers:\n",
    "            Z = layer.forward(Z)\n",
    "        self.Y_hat = tf.contrib.layers.softmax(logits=Z)\n",
    "        self.predict_op = tf.argmax(self.Y_hat, axis=-1)\n",
    "        # Train\n",
    "        self.Y_oh = tf.one_hot(indices=tf.cast(self.Y, tf.int32), depth=10)\n",
    "        self.loss = tf.losses.sigmoid_cross_entropy(self.Y_oh, logits=Z)\n",
    "        self.train_op = tf.train.GradientDescentOptimizer(1e-1).minimize(self.loss)\n",
    "        self.correct = tf.equal(self.predict_op, self.Y)\n",
    "        self.accuracy = tf.reduce_mean(tf.cast(self.correct, tf.float32))\n",
    "    \n",
    "    def set_session(self, session):\n",
    "        self.session = session\n",
    "        \n",
    "    def train(self, X, Y):\n",
    "        X = np.atleast_2d(X)\n",
    "        Y = np.atleast_1d(Y)\n",
    "        return self.session.run(self.train_op, feed_dict={self.X: X, self.Y: Y})\n",
    "    \n",
    "    def predict(self, X):\n",
    "        X = np.atleast_2d(X)\n",
    "        return self.session.run(self.predict_op, feed_dict={self.X : X})\n",
    "    \n",
    "    def get_accuracy(self, X, Y):\n",
    "        return self.session.run(self.accuracy, feed_dict={self.X: X, self.Y: Y})"
   ]
  },
  {
   "cell_type": "code",
   "execution_count": 50,
   "metadata": {
    "collapsed": false,
    "scrolled": true
   },
   "outputs": [
    {
     "data": {
      "text/plain": [
       "\"\\nnn = Model(784, 10, [100, 10])\\nsession = tf.InteractiveSession()\\ninit = tf.global_variables_initializer()\\nsession.run(init)\\nnn.set_session(session)\\n\\nprint(nn.get_accuracy(test_images_flat, test_labels))\\nfor i in tqdm_notebook(range(1000), desc='Epochs'):\\n    nn.train(train_images_flat, train_labels)\\nprint(nn.get_accuracy(test_images_flat, test_labels))\\n\""
      ]
     },
     "execution_count": 50,
     "metadata": {},
     "output_type": "execute_result"
    }
   ],
   "source": [
    "# Tests\n",
    "'''\n",
    "nn = Model(784, 10, [100, 10])\n",
    "session = tf.InteractiveSession()\n",
    "init = tf.global_variables_initializer()\n",
    "session.run(init)\n",
    "nn.set_session(session)\n",
    "\n",
    "print(nn.get_accuracy(test_images_flat, test_labels))\n",
    "for i in tqdm_notebook(range(1000), desc='Epochs'):\n",
    "    nn.train(train_images_flat, train_labels)\n",
    "print(nn.get_accuracy(test_images_flat, test_labels))\n",
    "'''"
   ]
  },
  {
   "cell_type": "markdown",
   "metadata": {},
   "source": [
    "Now I will implement a CNN with 1 conv layer, 1 pool layer, 1 dense layer"
   ]
  },
  {
   "cell_type": "code",
   "execution_count": 91,
   "metadata": {
    "collapsed": true
   },
   "outputs": [],
   "source": [
    "class CNN:\n",
    "    \n",
    "    def __init__(self, train_size, batch_size=100, use_tqdm=False):\n",
    "        self.X = tf.placeholder(tf.float32, shape=(None, 28, 28, 1))\n",
    "        self.Y = tf.placeholder(tf.int64, shape=(None))\n",
    "        self.is_training= tf.placeholder(tf.bool, shape=(None))\n",
    "        # Convolution\n",
    "        self.c1 = tf.contrib.layers.conv2d(inputs=self.X, num_outputs=32, kernel_size=5)\n",
    "        self.p1 = tf.contrib.layers.max_pool2d(inputs=self.c1, kernel_size=2)\n",
    "        self.c2 = tf.contrib.layers.conv2d(inputs=self.p1, num_outputs=64, kernel_size=5)\n",
    "        self.p2 = tf.contrib.layers.max_pool2d(inputs=self.c2, kernel_size=2)\n",
    "        # Flattening\n",
    "        self.flatted = tf.contrib.layers.flatten(inputs=self.p2)\n",
    "        # Dense\n",
    "        self.d1 = tf.contrib.layers.fully_connected(inputs=self.flatted, num_outputs=1024)\n",
    "        self.dropped = tf.contrib.layers.dropout(inputs=self.d1, keep_prob=0.5, is_training=self.is_training[0])\n",
    "        self.d2 = tf.contrib.layers.fully_connected(inputs=self.dropped, num_outputs=10, activation_fn=None)\n",
    "        # Predictions and softmax\n",
    "        self.prediction = tf.argmax(self.d2, axis=1)\n",
    "        self.probabilities = tf.contrib.layers.softmax(logits=self.d2)\n",
    "        # One hot\n",
    "        self.Y_oh = tf.one_hot(indices=tf.cast(self.Y, tf.int32), depth=10)\n",
    "        self.loss = tf.losses.softmax_cross_entropy(self.Y_oh, logits=self.d2)\n",
    "        # Optimization\n",
    "        self.batch_size = batch_size\n",
    "        self.use_tqdm = use_tqdm\n",
    "        batch = tf.Variable(0)\n",
    "        learning_rate = tf.train.exponential_decay(\n",
    "            1e-3,  # Base learning rate.\n",
    "            batch * self.batch_size,  # Current index into the dataset.\n",
    "            train_size,  # Decay step.\n",
    "            0.95,  # Decay rate.\n",
    "            staircase=True)\n",
    "        self.train_op = tf.train.AdamOptimizer(learning_rate).minimize(self.loss, global_step=batch)\n",
    "        # Accuracy\n",
    "        self.correct = tf.equal(self.prediction, self.Y)\n",
    "        self.accuracy = tf.reduce_mean(tf.cast(self.correct, tf.float32))\n",
    "        \n",
    "    def set_session(self, session):\n",
    "        self.session = session\n",
    "        \n",
    "    def predict(self, X):\n",
    "        return self.session.run(self.prediction, feed_dict={self.X: X, self.is_training: [False]})\n",
    "    \n",
    "    def train(self, X, Y):\n",
    "        if self.use_tqdm:\n",
    "            a = tqdm_notebook(range(0, len(X), self.batch_size), desc='Batches')\n",
    "        else:\n",
    "            a = range(0, len(X), self.batch_size)\n",
    "        for batch_pivot in a:\n",
    "            self.session.run(self.train_op, feed_dict={self.X: X[batch_pivot:batch_pivot+self.batch_size], self.Y: Y[batch_pivot:batch_pivot+self.batch_size], self.is_training: [True]})\n",
    "    \n",
    "    def get_accuracy(self, X, Y):\n",
    "        return self.session.run(self.accuracy, feed_dict={self.X: X, self.Y: Y, self.is_training: [False]})\n",
    "    "
   ]
  },
  {
   "cell_type": "code",
   "execution_count": 92,
   "metadata": {
    "collapsed": false
   },
   "outputs": [
    {
     "name": "stdout",
     "output_type": "stream",
     "text": [
      "0.117667\n",
      "TRAIN ACCURACY: 0.9995\n",
      "TEST ACCURACY: 0.974\n"
     ]
    }
   ],
   "source": [
    "cnn_model = CNN(train_images.shape[0], batch_size=50, use_tqdm=True)\n",
    "session = tf.InteractiveSession()\n",
    "init = tf.global_variables_initializer()\n",
    "session.run(init)\n",
    "cnn_model.set_session(session)\n",
    "\n",
    "print(cnn_model.get_accuracy(train_images, train_labels))\n",
    "for i in tqdm_notebook(range(10), desc='Epochs'):\n",
    "    cnn_model.train(train_images, train_labels)\n",
    "print(\"TRAIN ACCURACY:\", cnn_model.get_accuracy(train_images, train_labels))\n",
    "print(\"TEST ACCURACY:\", cnn_model.get_accuracy(test_images, test_labels))"
   ]
  },
  {
   "cell_type": "code",
   "execution_count": null,
   "metadata": {
    "collapsed": true
   },
   "outputs": [],
   "source": []
  }
 ],
 "metadata": {
  "kernelspec": {
   "display_name": "Python 3",
   "language": "python",
   "name": "python3"
  },
  "language_info": {
   "codemirror_mode": {
    "name": "ipython",
    "version": 3
   },
   "file_extension": ".py",
   "mimetype": "text/x-python",
   "name": "python",
   "nbconvert_exporter": "python",
   "pygments_lexer": "ipython3",
   "version": "3.6.0"
  },
  "widgets": {
   "state": {
    "00650c4de5954fa0a5a218838acf1ba6": {
     "views": [
      {
       "cell_index": 9
      }
     ]
    },
    "0302f580f41b4cdb8d35e8998b756115": {
     "views": [
      {
       "cell_index": 9
      }
     ]
    },
    "03047d20a259498681c5dbbce8b3e16b": {
     "views": [
      {
       "cell_index": 9
      }
     ]
    },
    "03672f69b6064807ae2b9b89afd2ccd1": {
     "views": [
      {
       "cell_index": 9
      }
     ]
    },
    "03b121985b964ac89fcfb4ac9753fd34": {
     "views": [
      {
       "cell_index": 9
      }
     ]
    },
    "04468371b1fc453fbc3762abe9060d2f": {
     "views": [
      {
       "cell_index": 9
      }
     ]
    },
    "06d00b998934435192cbaca88fb66634": {
     "views": [
      {
       "cell_index": 9
      }
     ]
    },
    "070fb56f94e94184bb67364afc5b21cc": {
     "views": [
      {
       "cell_index": 9
      }
     ]
    },
    "071888e56d584086b9bc9a376e788deb": {
     "views": [
      {
       "cell_index": 9
      }
     ]
    },
    "07c9752d1e3a4077a98757dc9d468d5c": {
     "views": [
      {
       "cell_index": 9
      }
     ]
    },
    "0850d0607c2946549038182c9b848329": {
     "views": [
      {
       "cell_index": 9
      }
     ]
    },
    "08c67c4953b449fe918c12ebecbffb7e": {
     "views": [
      {
       "cell_index": 9
      }
     ]
    },
    "08e2a04427db476dab7b254d667322b4": {
     "views": [
      {
       "cell_index": 9
      }
     ]
    },
    "0b395b5225454603bb215bdc4bf49b01": {
     "views": [
      {
       "cell_index": 9
      }
     ]
    },
    "0d7ae789020f4e8597454184a8ddc4f6": {
     "views": [
      {
       "cell_index": 9
      }
     ]
    },
    "0e35d00d70114b6b868e38628161692d": {
     "views": [
      {
       "cell_index": 9
      }
     ]
    },
    "0fb6e0682a374a3889fb9e6219bad6b9": {
     "views": [
      {
       "cell_index": 9
      }
     ]
    },
    "13dfa39c440f4fbd90ae61521a8223ae": {
     "views": [
      {
       "cell_index": 9
      }
     ]
    },
    "141deac3bd0d441f80a0142fd504714e": {
     "views": [
      {
       "cell_index": 9
      }
     ]
    },
    "149605e1112a4ba39452af4b39f047e7": {
     "views": [
      {
       "cell_index": 9
      }
     ]
    },
    "14ae0a1bcf8f409ca0ad69ed7adbef32": {
     "views": [
      {
       "cell_index": 9
      }
     ]
    },
    "1575f15a90d146b7bf879f1ec0e2827a": {
     "views": [
      {
       "cell_index": 9
      }
     ]
    },
    "16d9497b7c2849b195392e5fd3405088": {
     "views": [
      {
       "cell_index": 9
      }
     ]
    },
    "18cf1334292346f2a09d63aef8ce42e5": {
     "views": [
      {
       "cell_index": 9
      }
     ]
    },
    "1ec54400e30c41b6a2e395e7ea792d9a": {
     "views": [
      {
       "cell_index": 9
      }
     ]
    },
    "1f1858bd22024eb99250fdb463df5423": {
     "views": [
      {
       "cell_index": 9
      }
     ]
    },
    "204e994142784267a9df65711dfa4ca3": {
     "views": [
      {
       "cell_index": 9
      }
     ]
    },
    "208da0eab89c4df5b21b21411d4bb115": {
     "views": [
      {
       "cell_index": 9
      }
     ]
    },
    "2098984c16bf4bf596f57eca6ec211b8": {
     "views": [
      {
       "cell_index": 9
      }
     ]
    },
    "2288d162825f4d6f804a4ba769d25c26": {
     "views": [
      {
       "cell_index": 9
      }
     ]
    },
    "22a807926ee2416bb4673d546492ed29": {
     "views": [
      {
       "cell_index": 9
      }
     ]
    },
    "23ee116d8dfc41ef8ed60b94c430b56d": {
     "views": [
      {
       "cell_index": 9
      }
     ]
    },
    "24678a5367f049b6871f0ce9c32d90a6": {
     "views": [
      {
       "cell_index": 9
      }
     ]
    },
    "25153e9da57f4873880307e3e0e903d7": {
     "views": [
      {
       "cell_index": 9
      }
     ]
    },
    "26116b1b603e4f9f9be3a45c181a51b6": {
     "views": [
      {
       "cell_index": 9
      }
     ]
    },
    "272a24e571644a0f8dd6eb5c27981cd3": {
     "views": [
      {
       "cell_index": 9
      }
     ]
    },
    "27d8875849584e81827fdffb23a51667": {
     "views": [
      {
       "cell_index": 9
      }
     ]
    },
    "28a7a5e789a34f1699bc29769fb3d2fc": {
     "views": [
      {
       "cell_index": 9
      }
     ]
    },
    "29f1ece3914d4f7791f300e164242bc4": {
     "views": [
      {
       "cell_index": 9
      }
     ]
    },
    "2a6ff28bdf8e42c2a564988b4f959c20": {
     "views": [
      {
       "cell_index": 9
      }
     ]
    },
    "2ac097b6437e4df18719737813d22f2a": {
     "views": [
      {
       "cell_index": 9
      }
     ]
    },
    "2b1e61afdd164ebe840c039122d38915": {
     "views": [
      {
       "cell_index": 9
      }
     ]
    },
    "2d128a796e794d48b7c9a76e33209ecd": {
     "views": [
      {
       "cell_index": 9
      }
     ]
    },
    "2d33aa0fa2d94bddbefdd1f8e24231a3": {
     "views": [
      {
       "cell_index": 9
      }
     ]
    },
    "2d6efbe57cf44d2fa51e300c5aacaf18": {
     "views": [
      {
       "cell_index": 9
      }
     ]
    },
    "2d9ada481f9d473d925812d31bd0e45b": {
     "views": [
      {
       "cell_index": 9
      }
     ]
    },
    "2eed0b6648d947b9a2888a6db8af0a78": {
     "views": [
      {
       "cell_index": 9
      }
     ]
    },
    "2fd854691aab463fab979fcc9747a019": {
     "views": [
      {
       "cell_index": 9
      }
     ]
    },
    "304d6587322d4fcea64d27f4c571323c": {
     "views": [
      {
       "cell_index": 9
      }
     ]
    },
    "309ddd08b63e4122b0f73bd42ec848d1": {
     "views": [
      {
       "cell_index": 9
      }
     ]
    },
    "310bba09d2a3472e8e6a8d9d05810c61": {
     "views": [
      {
       "cell_index": 9
      }
     ]
    },
    "3154ce6104ff4f34a679e6555d4c9ec5": {
     "views": [
      {
       "cell_index": 9
      }
     ]
    },
    "315de3f409eb4c1d806c0e1fd248d986": {
     "views": [
      {
       "cell_index": 9
      }
     ]
    },
    "31bbe5c3af4443079256f41de00c8cd2": {
     "views": [
      {
       "cell_index": 9
      }
     ]
    },
    "32420700356b4926ad0ec039bb69f25a": {
     "views": [
      {
       "cell_index": 9
      }
     ]
    },
    "32a53e108bd049b6b419f35a732b1a40": {
     "views": [
      {
       "cell_index": 9
      }
     ]
    },
    "337869f3763a4b0da4a858b9e57b1f2b": {
     "views": [
      {
       "cell_index": 9
      }
     ]
    },
    "33c38b569f854e3f91d5da340ca2c2e9": {
     "views": [
      {
       "cell_index": 9
      }
     ]
    },
    "34462747001e4c52bccc6b0d7508ef94": {
     "views": [
      {
       "cell_index": 9
      }
     ]
    },
    "344c755c4f41424197144892060d1e4e": {
     "views": [
      {
       "cell_index": 9
      }
     ]
    },
    "34d9968f8ec94b16830979d60b7ad76d": {
     "views": [
      {
       "cell_index": 9
      }
     ]
    },
    "35ef2a859f11496783f8eaf7004daea0": {
     "views": [
      {
       "cell_index": 9
      }
     ]
    },
    "3605d5d0417943da966cea441f193542": {
     "views": [
      {
       "cell_index": 9
      }
     ]
    },
    "38457010fcb14713bb81055c7612a241": {
     "views": [
      {
       "cell_index": 9
      }
     ]
    },
    "394bc4164a8740a1bfbc4cbc0370391a": {
     "views": [
      {
       "cell_index": 9
      }
     ]
    },
    "3a3b018c654e44d1a4574b3d9a887a5d": {
     "views": [
      {
       "cell_index": 9
      }
     ]
    },
    "3af4d6f8944c4a39b0831c406e9e6b58": {
     "views": [
      {
       "cell_index": 9
      }
     ]
    },
    "3b0415f7b2b449c6b3bf8cd083e6ca73": {
     "views": [
      {
       "cell_index": 9
      }
     ]
    },
    "3bf5b542708a422db373f4c9928c4eda": {
     "views": [
      {
       "cell_index": 9
      }
     ]
    },
    "3c55661003a549549d3af0914cd663d8": {
     "views": [
      {
       "cell_index": 9
      }
     ]
    },
    "3d23dc8a7268428384900f907d64608e": {
     "views": [
      {
       "cell_index": 9
      }
     ]
    },
    "3d941f5182bb4ba4abfdd89923e0866b": {
     "views": [
      {
       "cell_index": 9
      }
     ]
    },
    "401c13e67c95491b83bb7bed01da5b1c": {
     "views": [
      {
       "cell_index": 9
      }
     ]
    },
    "408f8bccc1204b70a9b0b00c4178f049": {
     "views": [
      {
       "cell_index": 9
      }
     ]
    },
    "41a0fbad093b4b0289a132f4a69f87d0": {
     "views": [
      {
       "cell_index": 9
      }
     ]
    },
    "41fb9538ddd34ab2a82f8037ca390f67": {
     "views": [
      {
       "cell_index": 9
      }
     ]
    },
    "42269e6ed7974f95b0db940a6d7a84d3": {
     "views": [
      {
       "cell_index": 9
      }
     ]
    },
    "44bc27a9c9f14416b2ae28bd6f038a8a": {
     "views": [
      {
       "cell_index": 9
      }
     ]
    },
    "44db7de472fc416ab9768c5c0c08e288": {
     "views": [
      {
       "cell_index": 9
      }
     ]
    },
    "456edab98ab546529042db86ecddf713": {
     "views": [
      {
       "cell_index": 9
      }
     ]
    },
    "46a190af8ac54830857db47ec075ec87": {
     "views": [
      {
       "cell_index": 9
      }
     ]
    },
    "470dd9c0e6b34cd1b3f13d8892a6d64d": {
     "views": [
      {
       "cell_index": 9
      }
     ]
    },
    "476674640c714cc8a249d7ab46ded15a": {
     "views": [
      {
       "cell_index": 9
      }
     ]
    },
    "48c45b4ea7454340ba35ceb7ec82016b": {
     "views": [
      {
       "cell_index": 9
      }
     ]
    },
    "49f0ddf76f834393aca0b83d547de7f1": {
     "views": [
      {
       "cell_index": 9
      }
     ]
    },
    "4bc4d7dbeac3471894bed84b4b542dd1": {
     "views": [
      {
       "cell_index": 9
      }
     ]
    },
    "4cbf7543ae2848ab802260d223a3781b": {
     "views": [
      {
       "cell_index": 9
      }
     ]
    },
    "4d101b5bd51746a3b9a1941623dd6fd8": {
     "views": [
      {
       "cell_index": 9
      }
     ]
    },
    "4e740f58b0d049ee9809c3303987eab7": {
     "views": [
      {
       "cell_index": 9
      }
     ]
    },
    "4f4c9ce1cb374f8fb5be4951fad85003": {
     "views": [
      {
       "cell_index": 9
      }
     ]
    },
    "4f9a6a7619b8479089db3f0303e62ecd": {
     "views": [
      {
       "cell_index": 9
      }
     ]
    },
    "53aa7aceb05e44b0924ca7c26c4c8199": {
     "views": [
      {
       "cell_index": 9
      }
     ]
    },
    "545dae13c41a4abf98eb90bf859b10be": {
     "views": [
      {
       "cell_index": 9
      }
     ]
    },
    "54a1589f64724bc4a72b55ebd0e59146": {
     "views": [
      {
       "cell_index": 9
      }
     ]
    },
    "55d573c501994940aa560d2cbb28981b": {
     "views": [
      {
       "cell_index": 9
      }
     ]
    },
    "56095de5c68d47a9aec3086637530884": {
     "views": [
      {
       "cell_index": 9
      }
     ]
    },
    "569389a05a7945b88001d30079b9cd8a": {
     "views": [
      {
       "cell_index": 9
      }
     ]
    },
    "598d445a8281493fa8e29b85c02f6ad4": {
     "views": [
      {
       "cell_index": 9
      }
     ]
    },
    "5a6b95dc74f14c26a794b735990a72f9": {
     "views": [
      {
       "cell_index": 9
      }
     ]
    },
    "5af2e1fb4fa74df89795205ecfa81368": {
     "views": [
      {
       "cell_index": 9
      }
     ]
    },
    "5af99dd8e7894d1a90295392c6767d67": {
     "views": [
      {
       "cell_index": 9
      }
     ]
    },
    "5b8619734e22456db234b66869e90f2a": {
     "views": [
      {
       "cell_index": 9
      }
     ]
    },
    "5f16e228262b4761a5d8701de97e1dae": {
     "views": [
      {
       "cell_index": 9
      }
     ]
    },
    "5f254e9d87f249d485d5c30d83122871": {
     "views": [
      {
       "cell_index": 9
      }
     ]
    },
    "5f89765069bc40a29061f7e2b374cff4": {
     "views": [
      {
       "cell_index": 9
      }
     ]
    },
    "5fd1f8beabf449bfb15bba84a81e5a01": {
     "views": [
      {
       "cell_index": 9
      }
     ]
    },
    "602694be54b54a8aa51cc208a2d85c56": {
     "views": [
      {
       "cell_index": 9
      }
     ]
    },
    "610dbc399b584a06a28a9358d9326365": {
     "views": [
      {
       "cell_index": 9
      }
     ]
    },
    "61b7ac9aa9084213ab37fade9d248007": {
     "views": [
      {
       "cell_index": 9
      }
     ]
    },
    "62e4c085e79b413386bdc5a5db37ff03": {
     "views": [
      {
       "cell_index": 9
      }
     ]
    },
    "62f01b044b5a4e80b59fa55502a0c850": {
     "views": [
      {
       "cell_index": 9
      }
     ]
    },
    "636ab310bc784a17b044244d9e568f91": {
     "views": [
      {
       "cell_index": 9
      }
     ]
    },
    "6383184c84ad4c76ad7c75ff09ca9032": {
     "views": [
      {
       "cell_index": 9
      }
     ]
    },
    "647d603505a941c5ba164bc1b23832af": {
     "views": [
      {
       "cell_index": 9
      }
     ]
    },
    "6546463ec3424f39a99b0f20150b1411": {
     "views": [
      {
       "cell_index": 9
      }
     ]
    },
    "65da3ab731db49e292a3cec509f46e9e": {
     "views": [
      {
       "cell_index": 9
      }
     ]
    },
    "669c5bd3648b4af59647debe8b3d5086": {
     "views": [
      {
       "cell_index": 9
      }
     ]
    },
    "67216a04e848448987b87c1ca18efe4d": {
     "views": [
      {
       "cell_index": 9
      }
     ]
    },
    "6847adffef7d4caca0d2342ee555831b": {
     "views": [
      {
       "cell_index": 9
      }
     ]
    },
    "698ee1dff8184285974dd2672306b46b": {
     "views": [
      {
       "cell_index": 9
      }
     ]
    },
    "6a28f2df93c749f0b32de9a6368fd6d0": {
     "views": [
      {
       "cell_index": 9
      }
     ]
    },
    "6a754a3c1f5f4fb9a65058c0d50b7fc0": {
     "views": [
      {
       "cell_index": 9
      }
     ]
    },
    "6ad510e087e34190808404ef2d593025": {
     "views": [
      {
       "cell_index": 9
      }
     ]
    },
    "6b4d13ed854a40d986fcc42f973e0266": {
     "views": [
      {
       "cell_index": 9
      }
     ]
    },
    "6b4e4bcc295a4a208134ffc79ca12174": {
     "views": [
      {
       "cell_index": 9
      }
     ]
    },
    "6bca0e1b837d4ea9b4ef40ba47e9e370": {
     "views": [
      {
       "cell_index": 9
      }
     ]
    },
    "6c3232e597534ecd8c60d583c67c00fb": {
     "views": [
      {
       "cell_index": 9
      }
     ]
    },
    "6ca819ba288044b09f844acf248cf88d": {
     "views": [
      {
       "cell_index": 9
      }
     ]
    },
    "6d445200b9714890a975c31e0aa6cda4": {
     "views": [
      {
       "cell_index": 9
      }
     ]
    },
    "6ed4f0ac7bab4086a1701a81664221d3": {
     "views": [
      {
       "cell_index": 9
      }
     ]
    },
    "6f576437d31240a2b098d1a2f5d73814": {
     "views": [
      {
       "cell_index": 9
      }
     ]
    },
    "72eacbb4d5754e619270331e50503b53": {
     "views": [
      {
       "cell_index": 9
      }
     ]
    },
    "73364f244703468e971bf7c059382f11": {
     "views": [
      {
       "cell_index": 9
      }
     ]
    },
    "73391f5397ee4e06ac044a521230fdb2": {
     "views": [
      {
       "cell_index": 9
      }
     ]
    },
    "739315ead7714bb08e7ae27ad6777385": {
     "views": [
      {
       "cell_index": 9
      }
     ]
    },
    "73a32de752e5475d818ab2a8651bfb6e": {
     "views": [
      {
       "cell_index": 9
      }
     ]
    },
    "73d1773899d64f20803885c99b945f4a": {
     "views": [
      {
       "cell_index": 9
      }
     ]
    },
    "73e5f184940d4005a37b3ed5b170ba20": {
     "views": [
      {
       "cell_index": 9
      }
     ]
    },
    "73f9e6bffb574c07b7211e4c4b64fc84": {
     "views": [
      {
       "cell_index": 9
      }
     ]
    },
    "74c4b79018214bdd983116bbde630fb1": {
     "views": [
      {
       "cell_index": 9
      }
     ]
    },
    "756d59ebacce4f0da7d1f113fb038efc": {
     "views": [
      {
       "cell_index": 9
      }
     ]
    },
    "75d65f83b3c0474f8a48030fe134689b": {
     "views": [
      {
       "cell_index": 9
      }
     ]
    },
    "75e8ce5443b44ae8b34f1130c0028a99": {
     "views": [
      {
       "cell_index": 9
      }
     ]
    },
    "774a872408a041e2927cdd27c77b5e3a": {
     "views": [
      {
       "cell_index": 9
      }
     ]
    },
    "779a8a715f36474a801467b1cb9105a0": {
     "views": [
      {
       "cell_index": 9
      }
     ]
    },
    "7970eac8a00e44a18ef1d8931d8e9c8f": {
     "views": [
      {
       "cell_index": 9
      }
     ]
    },
    "79ee38a6e18e4ba6b02029ce739eaa52": {
     "views": [
      {
       "cell_index": 9
      }
     ]
    },
    "7ab51eefe1ce42b19b2348d2b5f7bbda": {
     "views": [
      {
       "cell_index": 9
      }
     ]
    },
    "7cc62790462e422dbe1dad81b18af291": {
     "views": [
      {
       "cell_index": 9
      }
     ]
    },
    "7fc59ac4b562444cb363098706295c1c": {
     "views": [
      {
       "cell_index": 9
      }
     ]
    },
    "805e72e27a9c4f90b4e3c1663a0024a6": {
     "views": [
      {
       "cell_index": 9
      }
     ]
    },
    "81de691e16034d04aec25c6fee546369": {
     "views": [
      {
       "cell_index": 9
      }
     ]
    },
    "82fb9e3d31194c8d84d574e43bc7fa71": {
     "views": [
      {
       "cell_index": 9
      }
     ]
    },
    "83a02bee99b2448ba1c2d313f499a739": {
     "views": [
      {
       "cell_index": 9
      }
     ]
    },
    "83c68d07250447c696090e79b6883ea5": {
     "views": [
      {
       "cell_index": 9
      }
     ]
    },
    "84c1f27defc5405ead26f5c22788f932": {
     "views": [
      {
       "cell_index": 9
      }
     ]
    },
    "86336a5bd6b34bab9989a66a4542b4f1": {
     "views": [
      {
       "cell_index": 9
      }
     ]
    },
    "87cea961e0794954861e4bf73318454f": {
     "views": [
      {
       "cell_index": 9
      }
     ]
    },
    "87ff1f3406d74ef4847cc5b8b087c1fc": {
     "views": [
      {
       "cell_index": 9
      }
     ]
    },
    "88c93a72773047b7a9fc11b696ba8318": {
     "views": [
      {
       "cell_index": 9
      }
     ]
    },
    "88ef9c19d7624dfd9295121f5e6839b3": {
     "views": [
      {
       "cell_index": 9
      }
     ]
    },
    "8a0f6458e2514716ace3bcc50f08981f": {
     "views": [
      {
       "cell_index": 9
      }
     ]
    },
    "8a45babb0f8e4c8083b5f1eaf692960c": {
     "views": [
      {
       "cell_index": 9
      }
     ]
    },
    "8ad611cbae6748fc98bf6861fb08a2f5": {
     "views": [
      {
       "cell_index": 9
      }
     ]
    },
    "8b2113f3ef0149579f3d8924bf16b08d": {
     "views": [
      {
       "cell_index": 9
      }
     ]
    },
    "8b8403eb935b409d8c0fc7a6a138f426": {
     "views": [
      {
       "cell_index": 9
      }
     ]
    },
    "8bd07862acdd4d849886c491e29d9aa8": {
     "views": [
      {
       "cell_index": 9
      }
     ]
    },
    "8ca3e7e01341480ea25379b5438b30da": {
     "views": [
      {
       "cell_index": 9
      }
     ]
    },
    "8d8f3d227bfe4f3496d222f90fff887d": {
     "views": [
      {
       "cell_index": 9
      }
     ]
    },
    "8da27eca2ff546c9a0942272eccededc": {
     "views": [
      {
       "cell_index": 9
      }
     ]
    },
    "8f8a993f8ecd4a0ca7b07e1c920b8be6": {
     "views": [
      {
       "cell_index": 9
      }
     ]
    },
    "904127cffc43433b962d7de532d831ae": {
     "views": [
      {
       "cell_index": 9
      }
     ]
    },
    "90fe75b4329c4c7db858e09ffb3e9409": {
     "views": [
      {
       "cell_index": 9
      }
     ]
    },
    "9173be4e77f446e2a40db58acd45abb9": {
     "views": [
      {
       "cell_index": 9
      }
     ]
    },
    "921be610835e4eeb884f2d790ce9a22d": {
     "views": [
      {
       "cell_index": 9
      }
     ]
    },
    "93f0e77bc33b49cf9050fc750f087dce": {
     "views": [
      {
       "cell_index": 9
      }
     ]
    },
    "94cb6ffa430f440b9dcf3c7c8576ee86": {
     "views": [
      {
       "cell_index": 9
      }
     ]
    },
    "977a43d48f4d41349726f10570a3d17d": {
     "views": [
      {
       "cell_index": 9
      }
     ]
    },
    "979fea19dd3d419a9e68c7eba6e1afc1": {
     "views": [
      {
       "cell_index": 9
      }
     ]
    },
    "99a66c92fb4947419f852c6f7ce46367": {
     "views": [
      {
       "cell_index": 9
      }
     ]
    },
    "99c8028b16cd41c48c165b8ff4e864f1": {
     "views": [
      {
       "cell_index": 9
      }
     ]
    },
    "9ade2e1c31554281a83b78f6fe1e0625": {
     "views": [
      {
       "cell_index": 9
      }
     ]
    },
    "9b070304cf2b4c93a1449f4f46f9d03d": {
     "views": [
      {
       "cell_index": 9
      }
     ]
    },
    "9c904b3f1d52406a8497f456918c7f2a": {
     "views": [
      {
       "cell_index": 9
      }
     ]
    },
    "9cad27ec42a840e0adb5ad02066a19fb": {
     "views": [
      {
       "cell_index": 9
      }
     ]
    },
    "9d132db3a89d497e80704b05924db2d4": {
     "views": [
      {
       "cell_index": 9
      }
     ]
    },
    "9d2012c03cc5429393802f8b6de1884d": {
     "views": [
      {
       "cell_index": 9
      }
     ]
    },
    "9f54855ae8504f0e90b7cf14e7e89dfa": {
     "views": [
      {
       "cell_index": 9
      }
     ]
    },
    "9f955227c25f409ab11e9a1762ea74e3": {
     "views": [
      {
       "cell_index": 9
      }
     ]
    },
    "a0778046cdf9480aac096196fe535b5a": {
     "views": [
      {
       "cell_index": 9
      }
     ]
    },
    "a122edd0f76a41308a5094b94d3474ca": {
     "views": [
      {
       "cell_index": 9
      }
     ]
    },
    "a180a59443d246e0a7320a226c89d1f7": {
     "views": [
      {
       "cell_index": 9
      }
     ]
    },
    "a1afd449c1094b39a6fd55c2cbe5f883": {
     "views": [
      {
       "cell_index": 9
      }
     ]
    },
    "a1ddf0aa6e1d4e28a6fe243745e68826": {
     "views": [
      {
       "cell_index": 9
      }
     ]
    },
    "a1e846b5f1bd4d5da04aa65224d4b66f": {
     "views": [
      {
       "cell_index": 9
      }
     ]
    },
    "a36638c4cc704971b2a3b4e3f1182755": {
     "views": [
      {
       "cell_index": 9
      }
     ]
    },
    "a36e36327be743499420187da7d3dd0b": {
     "views": [
      {
       "cell_index": 9
      }
     ]
    },
    "a47e08fc5b9e4ecfad3f26e9b9e77f66": {
     "views": [
      {
       "cell_index": 9
      }
     ]
    },
    "a6321f6e479b4b5cbf2797be2434ce85": {
     "views": [
      {
       "cell_index": 9
      }
     ]
    },
    "a65adcc099054fb79efbb8da56e89519": {
     "views": [
      {
       "cell_index": 9
      }
     ]
    },
    "a8a2b3b7f4be46a2843bf9f8adbae2bb": {
     "views": [
      {
       "cell_index": 9
      }
     ]
    },
    "a9d167425e7349e5ba8fd02907ee131b": {
     "views": [
      {
       "cell_index": 9
      }
     ]
    },
    "acdf648bfef2415fb9660aac435a48c5": {
     "views": [
      {
       "cell_index": 9
      }
     ]
    },
    "ae1c0ba2ffdc4dbba25e172e7a6541db": {
     "views": [
      {
       "cell_index": 9
      }
     ]
    },
    "aebd5ff7bf2c45d481e5a8cbe8132356": {
     "views": [
      {
       "cell_index": 9
      }
     ]
    },
    "b02d325680bf4a139a56727491f8a28e": {
     "views": [
      {
       "cell_index": 9
      }
     ]
    },
    "b0b6257d7048478997249d2231dbc51d": {
     "views": [
      {
       "cell_index": 9
      }
     ]
    },
    "b0cfb1619293428cbda1e91be67ea74d": {
     "views": [
      {
       "cell_index": 9
      }
     ]
    },
    "b11e8386dfcd45e5a304a478fcdc0a68": {
     "views": [
      {
       "cell_index": 9
      }
     ]
    },
    "b1670e64e5c448d09ebc5e0172d7f2a7": {
     "views": [
      {
       "cell_index": 9
      }
     ]
    },
    "b28370102262401a80a04ca91b0d62ad": {
     "views": [
      {
       "cell_index": 9
      }
     ]
    },
    "b28c2d5319fa46e7902e1401d994dfe7": {
     "views": [
      {
       "cell_index": 9
      }
     ]
    },
    "b6120b94a0a54d21af1046ba5255618c": {
     "views": [
      {
       "cell_index": 9
      }
     ]
    },
    "b729eae65d99410fa3745cffbad30c1a": {
     "views": [
      {
       "cell_index": 9
      }
     ]
    },
    "b9031d8a9c624d6380a111e055a816bb": {
     "views": [
      {
       "cell_index": 9
      }
     ]
    },
    "ba3aa32f0c0f4f2a97cddb750b57ad98": {
     "views": [
      {
       "cell_index": 9
      }
     ]
    },
    "bbab74c859fb4e86b7a912b454638bfc": {
     "views": [
      {
       "cell_index": 9
      }
     ]
    },
    "bd4b3d1eb59444d29d456ec838abddd0": {
     "views": [
      {
       "cell_index": 9
      }
     ]
    },
    "bdd8b4e58e04474d935b4e2ce74b868e": {
     "views": [
      {
       "cell_index": 9
      }
     ]
    },
    "be5f9558ba3743d7a330c0abda80d234": {
     "views": [
      {
       "cell_index": 9
      }
     ]
    },
    "befa242cf22a41d9bab874c296b8394c": {
     "views": [
      {
       "cell_index": 9
      }
     ]
    },
    "bf0efdde79254ec0bb99606be5d9a31e": {
     "views": [
      {
       "cell_index": 9
      }
     ]
    },
    "bf245972f31c48518eac1bc8a27b6834": {
     "views": [
      {
       "cell_index": 9
      }
     ]
    },
    "bf7c1923e2464a938a376d83ffcb3757": {
     "views": [
      {
       "cell_index": 9
      }
     ]
    },
    "bf870671a4434338bb287afc9a13815b": {
     "views": [
      {
       "cell_index": 9
      }
     ]
    },
    "c07803e8c4d6467ebf70f5af6b3cbbf2": {
     "views": [
      {
       "cell_index": 9
      }
     ]
    },
    "c4650188f8074923b0cf406e17625d86": {
     "views": [
      {
       "cell_index": 9
      }
     ]
    },
    "c4c3a6587ac44b1da27ec04703eca46d": {
     "views": [
      {
       "cell_index": 9
      }
     ]
    },
    "c60a1d31a2ea40689a598519da7ea9f6": {
     "views": [
      {
       "cell_index": 9
      }
     ]
    },
    "c6c6899d4a46485298ac18f72ac2da8b": {
     "views": [
      {
       "cell_index": 9
      }
     ]
    },
    "c7305028f0944c9d9bea0bba0cb9cf90": {
     "views": [
      {
       "cell_index": 9
      }
     ]
    },
    "c7a4b466c2ec468490437592fba4edca": {
     "views": [
      {
       "cell_index": 9
      }
     ]
    },
    "c7facab4277248a5849b316c606065a3": {
     "views": [
      {
       "cell_index": 9
      }
     ]
    },
    "c85ea2d1ad384fed96c6393969d68f56": {
     "views": [
      {
       "cell_index": 9
      }
     ]
    },
    "cae1d23e0c2743398664b3c7a0ff2808": {
     "views": [
      {
       "cell_index": 9
      }
     ]
    },
    "caf0f6c1bb124a958a1cd2eecda6ba1d": {
     "views": [
      {
       "cell_index": 9
      }
     ]
    },
    "cb7c877bca9940feaac1cb2a6672d699": {
     "views": [
      {
       "cell_index": 9
      }
     ]
    },
    "cc25a889572b461b8b49dc8e28489f4f": {
     "views": [
      {
       "cell_index": 9
      }
     ]
    },
    "cd2ac1308894456482a233094d6476bd": {
     "views": [
      {
       "cell_index": 9
      }
     ]
    },
    "ce7de6909b1045faad83fd87ad5e6a3e": {
     "views": [
      {
       "cell_index": 9
      }
     ]
    },
    "ceaf6ae19dd7432496d1296a68d03230": {
     "views": [
      {
       "cell_index": 9
      }
     ]
    },
    "cf11f0c6dc0a453f83127e8fa52cbcbd": {
     "views": [
      {
       "cell_index": 9
      }
     ]
    },
    "cf1d95afe29940f28db8bf9e73e119a5": {
     "views": [
      {
       "cell_index": 9
      }
     ]
    },
    "cf41d69904354da5b7d0547563db81fe": {
     "views": [
      {
       "cell_index": 9
      }
     ]
    },
    "d0b5cd37718d40338e93bc40113e97a6": {
     "views": [
      {
       "cell_index": 9
      }
     ]
    },
    "d176788da902478c8a1cfc2df6b4e5bf": {
     "views": [
      {
       "cell_index": 9
      }
     ]
    },
    "d17e29a6e53147ba869ec3e893f87149": {
     "views": [
      {
       "cell_index": 9
      }
     ]
    },
    "d24e7c1f6e9d4ea2b68b0db6e2438dba": {
     "views": [
      {
       "cell_index": 9
      }
     ]
    },
    "d29ec9a3cd794cfe8e8d386d5d500076": {
     "views": [
      {
       "cell_index": 9
      }
     ]
    },
    "d2c4ea887056467486b1d904dc1a2169": {
     "views": [
      {
       "cell_index": 9
      }
     ]
    },
    "d37e07e1a1524e55830b64236b553be0": {
     "views": [
      {
       "cell_index": 9
      }
     ]
    },
    "d48170a3053b447f8e78d16fae0e49dc": {
     "views": [
      {
       "cell_index": 9
      }
     ]
    },
    "d4b66cfe2c7b40f2973080b1e0245b60": {
     "views": [
      {
       "cell_index": 9
      }
     ]
    },
    "d527ca0d1919447fa3d26067375968db": {
     "views": [
      {
       "cell_index": 9
      }
     ]
    },
    "d68d793af2804755828f5131bc18db0e": {
     "views": [
      {
       "cell_index": 9
      }
     ]
    },
    "d6994bea12d24e548fba425801be431c": {
     "views": [
      {
       "cell_index": 9
      }
     ]
    },
    "d6f683820fcf47e78861d168f0607f04": {
     "views": [
      {
       "cell_index": 9
      }
     ]
    },
    "d735134242d74c5aa76b055f15e2923d": {
     "views": [
      {
       "cell_index": 9
      }
     ]
    },
    "d7cf85c76a034672840035929aab9c52": {
     "views": [
      {
       "cell_index": 9
      }
     ]
    },
    "d93c437f4321404284d67da1928d5485": {
     "views": [
      {
       "cell_index": 9
      }
     ]
    },
    "d9e98cde451340e8b73b254964127191": {
     "views": [
      {
       "cell_index": 9
      }
     ]
    },
    "d9f51813bdbf483a93a1b61471767691": {
     "views": [
      {
       "cell_index": 9
      }
     ]
    },
    "da09bce252f74799885ad6950350f45f": {
     "views": [
      {
       "cell_index": 9
      }
     ]
    },
    "da6d62f3506d434d85a65de8791f036d": {
     "views": [
      {
       "cell_index": 9
      }
     ]
    },
    "df00821c05d64945b43f7942dd67d3a8": {
     "views": [
      {
       "cell_index": 9
      }
     ]
    },
    "dff45cf2cc81431b97844f95fd08caf6": {
     "views": [
      {
       "cell_index": 9
      }
     ]
    },
    "e010b25e34ad4a51bf72a174bf51110f": {
     "views": [
      {
       "cell_index": 9
      }
     ]
    },
    "e138fa20bf3645958f960dff55c0b74d": {
     "views": [
      {
       "cell_index": 9
      }
     ]
    },
    "e1b6ffe977d24a3fa3da359258c3bc18": {
     "views": [
      {
       "cell_index": 9
      }
     ]
    },
    "e299a2e5c5294136ba883e67cae85f52": {
     "views": [
      {
       "cell_index": 9
      }
     ]
    },
    "e3240ecd3b78499f99b5fdf30f54d50b": {
     "views": [
      {
       "cell_index": 9
      }
     ]
    },
    "e48556f4a5d44320b7ee42fde8c67852": {
     "views": [
      {
       "cell_index": 9
      }
     ]
    },
    "e4b18a2d735749d6a2c8382f4878feec": {
     "views": [
      {
       "cell_index": 9
      }
     ]
    },
    "e54016b807384348bb945978b0cb3c3d": {
     "views": [
      {
       "cell_index": 9
      }
     ]
    },
    "e60809c18bc649338cb1dd732a955c93": {
     "views": [
      {
       "cell_index": 9
      }
     ]
    },
    "e6396293a7484da3b4876284617e3672": {
     "views": [
      {
       "cell_index": 9
      }
     ]
    },
    "e70ec399df6747b998bc7ad182eb54bd": {
     "views": [
      {
       "cell_index": 9
      }
     ]
    },
    "e9afbb4a9dc2497f90c1270fa629b7d9": {
     "views": [
      {
       "cell_index": 9
      }
     ]
    },
    "ec3e255fbb9e4d3a9c05bb5193dc3fb8": {
     "views": [
      {
       "cell_index": 9
      }
     ]
    },
    "ec415955ccbe45ffa2d4b2b0454dbb62": {
     "views": [
      {
       "cell_index": 9
      }
     ]
    },
    "ef2478b260894fb0b629c72c1d6d3221": {
     "views": [
      {
       "cell_index": 9
      }
     ]
    },
    "efe364d20b5b4c068e36bffbd32ed909": {
     "views": [
      {
       "cell_index": 9
      }
     ]
    },
    "eff74f377f14414fa650d7d74ff7abd7": {
     "views": [
      {
       "cell_index": 9
      }
     ]
    },
    "f0471e75bf294768bef362074ad5a6ba": {
     "views": [
      {
       "cell_index": 9
      }
     ]
    },
    "f08b9c69d641462eafbe582e2069a1aa": {
     "views": [
      {
       "cell_index": 9
      }
     ]
    },
    "f31b76d4b7184455a977812151644ff2": {
     "views": [
      {
       "cell_index": 9
      }
     ]
    },
    "f4b062756d044f40a3dd5dcff88fc376": {
     "views": [
      {
       "cell_index": 9
      }
     ]
    },
    "f516d62e45e94a84a376b651a455bf54": {
     "views": [
      {
       "cell_index": 9
      }
     ]
    },
    "f64ee2c5830f49c5851642c98cd7957d": {
     "views": [
      {
       "cell_index": 9
      }
     ]
    },
    "f66bb35611b84025adacc1cc3b9bebc6": {
     "views": [
      {
       "cell_index": 9
      }
     ]
    },
    "f8fdc21f3b8f4334a9a925d54089657d": {
     "views": [
      {
       "cell_index": 9
      }
     ]
    },
    "f94c4403c1ef4166a597cae3bd8044a9": {
     "views": [
      {
       "cell_index": 9
      }
     ]
    },
    "f9dbb4df29c64849a4f7f6068a6f682f": {
     "views": [
      {
       "cell_index": 9
      }
     ]
    },
    "fbe3bf69f9644510968eeafa3eac5715": {
     "views": [
      {
       "cell_index": 9
      }
     ]
    },
    "fd80f371109a429f92e78ef78e121195": {
     "views": [
      {
       "cell_index": 9
      }
     ]
    },
    "fe20688630e745d181adf7b10b9c4cee": {
     "views": [
      {
       "cell_index": 9
      }
     ]
    },
    "ffc1fa4a4dbf472ea467756394181302": {
     "views": [
      {
       "cell_index": 9
      }
     ]
    },
    "ffdefd4ac6ac492290c943197d6a4c38": {
     "views": [
      {
       "cell_index": 9
      }
     ]
    }
   },
   "version": "1.2.0"
  }
 },
 "nbformat": 4,
 "nbformat_minor": 2
}
