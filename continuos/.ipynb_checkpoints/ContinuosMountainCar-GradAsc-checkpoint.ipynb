{
 "cells": [
  {
   "cell_type": "markdown",
   "metadata": {},
   "source": [
    "# Policy Gradient in continuous action space using TF\n",
    "We will use TF to apply PG method to MountainCarContinuos environment. This time we will use gradient ascent instead of Hill Climb random search for the parameters"
   ]
  },
  {
   "cell_type": "code",
   "execution_count": 1,
   "metadata": {
    "collapsed": true
   },
   "outputs": [],
   "source": [
    "# Imports specifically so we can render outputs in Jupyter.\n",
    "from JSAnimation.IPython_display import display_animation\n",
    "from matplotlib import animation\n",
    "import matplotlib.pyplot as plt\n",
    "from IPython.display import display\n",
    "from tqdm import tnrange, tqdm_notebook\n",
    "import numpy as np\n",
    "from collections import deque\n",
    "from q_learning import plot_running_avg, FeatureTransformer\n",
    "\n",
    "%matplotlib inline\n",
    "\n",
    "def display_frames_as_gif(frames):\n",
    "    \"\"\"\n",
    "    Displays a list of frames as a gif, with controls\n",
    "    \"\"\"\n",
    "    #plt.figure(figsize=(frames[0].shape[1] / 72.0, frames[0].shape[0] / 72.0), dpi = 72)\n",
    "    patch = plt.imshow(frames[0])\n",
    "    plt.axis('off')\n",
    "\n",
    "    def animate(i):\n",
    "        patch.set_data(frames[i])\n",
    "\n",
    "    anim = animation.FuncAnimation(plt.gcf(), animate, frames = len(frames), interval=50)\n",
    "    display(display_animation(anim, default_mode='once'))"
   ]
  },
  {
   "cell_type": "markdown",
   "metadata": {},
   "source": [
    "Now we create the environment (CartPole V0)"
   ]
  },
  {
   "cell_type": "code",
   "execution_count": 2,
   "metadata": {
    "collapsed": false
   },
   "outputs": [
    {
     "name": "stderr",
     "output_type": "stream",
     "text": [
      "[2017-10-17 14:27:08,634] Making new env: MountainCarContinuous-v0\n"
     ]
    }
   ],
   "source": [
    "import gym\n",
    "env = gym.make(\"MountainCarContinuous-v0\").env"
   ]
  },
  {
   "cell_type": "markdown",
   "metadata": {},
   "source": [
    "Then we create a layer of a network"
   ]
  },
  {
   "cell_type": "code",
   "execution_count": 3,
   "metadata": {
    "collapsed": true
   },
   "outputs": [],
   "source": [
    "import tensorflow as tf\n",
    "\n",
    "class HiddenLayer:\n",
    "    def __init__(self, M1, M2, f=tf.nn.tanh, use_bias=True, zeros=False):\n",
    "        if zeros:\n",
    "            W = np.zeros((M1, M2)).astype(np.float32)\n",
    "            self.W = tf.Variable(W)\n",
    "        else:\n",
    "            self.W = tf.Variable(tf.random_normal(shape=(M1, M2)))\n",
    "            \n",
    "        self.params = [self.W]\n",
    "        \n",
    "        self.use_bias = use_bias\n",
    "        \n",
    "        if use_bias:\n",
    "            self.b = tf.Variable(np.zeros(M2).astype(np.float32))\n",
    "            self.params.append(self.b)\n",
    "        self.f = f\n",
    "\n",
    "    def forward(self, X):\n",
    "        if self.use_bias:\n",
    "            a = tf.matmul(X, self.W) + self.b\n",
    "        else:\n",
    "            a = tf.matmul(X, self.W)\n",
    "        return self.f(a)"
   ]
  },
  {
   "cell_type": "markdown",
   "metadata": {},
   "source": [
    "Next thing we create the policy model. This time we will have 2 outputs, the mean and the var of the distribution"
   ]
  },
  {
   "cell_type": "code",
   "execution_count": 5,
   "metadata": {
    "collapsed": false
   },
   "outputs": [],
   "source": [
    "class PolicyModel:\n",
    "    def __init__(self, ft, D, hidden_layer_sizes=[]):\n",
    "\n",
    "        # save inputs for copy\n",
    "        self.ft = ft\n",
    "        self.D = D\n",
    "        self.hidden_layer_sizes = hidden_layer_sizes\n",
    "        \n",
    "        ##### model the mean #####\n",
    "        self.hidden_layers = []\n",
    "        M1 = D\n",
    "        for M2 in hidden_layer_sizes:\n",
    "            layer = HiddenLayer(M1, M2)\n",
    "            self.hidden_layers.append(layer)\n",
    "            M1 = M2\n",
    "\n",
    "        # final layer\n",
    "        self.mean_layer = HiddenLayer(M1, 1, lambda x: x, use_bias=False, zeros=True)\n",
    "\n",
    "        # final layer\n",
    "        self.stdv_layer = HiddenLayer(M1, 1, tf.nn.softplus, use_bias=False, zeros=False)\n",
    "\n",
    "        # gather params\n",
    "        self.params = []\n",
    "        for layer in (self.mean_layers + self.var_layers):\n",
    "            self.params += layer.params\n",
    "\n",
    "        # inputs and targets\n",
    "        self.X = tf.placeholder(tf.float32, shape=(None, D), name='X')\n",
    "        self.actions = tf.placeholder(tf.float32, shape=(None,), name='actions')\n",
    "        self.advantages = tf.placeholder(tf.float32, shape=(None,), name='advantages')\n",
    "\n",
    "        Z = self.X\n",
    "        for layer in self.hidden_layers:\n",
    "            Z = layer.forward(Z)\n",
    "            \n",
    "        mean = self.mean_layer.forward(Z)\n",
    "        stdv = self.var_layer.forward(Z)\n",
    "        \n",
    "        mean = tf.reshape(mean, [-1])\n",
    "        stdv = tf.reshape(stdv, [-1])\n",
    "\n",
    "        norm = tf.contrib.distributions.Normal(mean, stdv)\n",
    "        self.predict_op = tf.clip_by_value(norm.sample(), -1, 1)\n",
    "\n",
    "        log_probs = norm.log_prob(self.actions)\n",
    "        cost = -tf.reduce_sum(self.advantages * log_probs + 0.1 * norm.entropy())\n",
    "        self.train_op = tf.train.AdamOptimizer(10e-3).minimize(cost)\n",
    "\n",
    "    def set_session(self, session):\n",
    "        self.session = session\n",
    "        \n",
    "    def partial_fit(self, X, actions, advantages):\n",
    "        X = np.atleast_2d(X)\n",
    "        X = self.ft.transform(X)\n",
    "        \n",
    "        actions = np.atleast_1d(actions)\n",
    "        advantages = np.atleast_1d(advantages)\n",
    "        self.session.run(self.train_op, feed_dict={self.X: X, self.actions: actions, self.advantages: advantages})\n",
    "\n",
    "    def predict(self, X):\n",
    "        X = np.atleast_2d(X)\n",
    "        X = self.ft.transform(X)\n",
    "        return self.session.run(self.predict_op, feed_dict={self.X: X})\n",
    "\n",
    "    def sample_action(self, X):\n",
    "        p = self.predict(X)[0]\n",
    "        # print(\"action:\", p)\n",
    "        return p\n"
   ]
  },
  {
   "cell_type": "markdown",
   "metadata": {},
   "source": [
    "Given that we are not using Hill Climb anymore, we also need to model the Value function"
   ]
  },
  {
   "cell_type": "code",
   "execution_count": null,
   "metadata": {
    "collapsed": true
   },
   "outputs": [],
   "source": [
    "class ValueModel:\n",
    "    def __init__(self, D, ft, hidden_layer_sizes=[]):\n",
    "        self.ft = ft\n",
    "        self.costs = []\n",
    "        ##### Create layers #####\n",
    "        self.layers = []\n",
    "        M1 = D\n",
    "        for M2 in hidden_layer_sizes:\n",
    "            layer = HiddenLayer(M1, M2)\n",
    "            self.layers.append(layer)\n",
    "            M1 = M2\n",
    "        # final layer\n",
    "        layer = HiddenLayer(M1, 1, lambda x: x)\n",
    "        self.layers.append(layer)\n",
    "        # Declare placeholders\n",
    "        self.X = tf.placeholder(tf.float32, shape=(None, D), name='X')\n",
    "        self.Y = tf.placeholder(tf.float32, shape=(None, ), name='Y')\n",
    "        # Get the output\n",
    "        Z = self.X\n",
    "        for layer in self.hidden_layers:\n",
    "            Z = layer.forward(Z)\n",
    "        Y_hat = tf.reshape(Z, [-1])\n",
    "        self.predict_op = Y_hat\n",
    "        \n",
    "        cost = tf.reduce_sum(tf.square(self.Y - Y_hat))\n",
    "        \n",
    "        "
   ]
  },
  {
   "cell_type": "markdown",
   "metadata": {},
   "source": [
    "Next we will create the play_one function"
   ]
  },
  {
   "cell_type": "code",
   "execution_count": 5,
   "metadata": {
    "collapsed": true
   },
   "outputs": [],
   "source": [
    "def play_one(env, pmodel, gamma):\n",
    "    observation = env.reset()\n",
    "    done = False\n",
    "    totalreward = 0\n",
    "    iters = 0\n",
    "\n",
    "    while not done and iters < 2000:\n",
    "        # if we reach 2000, just quit, don't want this going forever\n",
    "        # the 200 limit seems a bit early\n",
    "        action = pmodel.sample_action(observation)\n",
    "        # oddly, the mountain car environment requires the action to be in\n",
    "        # an object where the actual action is stored in object[0]\n",
    "        observation, reward, done, info = env.step([action])\n",
    "\n",
    "        totalreward += reward\n",
    "        iters += 1\n",
    "    return totalreward\n",
    "\n",
    "\n",
    "def play_multiple_episodes(env, T, pmodel, gamma, print_iters=False, status=False):\n",
    "    totalrewards = np.empty(T)\n",
    "    r = range(T)\n",
    "    if status:\n",
    "        r = tqdm_notebook(range(T), desc='Episodes'):\n",
    "    for i in range(T):\n",
    "        totalrewards[i] = play_one(env, pmodel, gamma)\n",
    "        if print_iters:\n",
    "            print(i, \"avg so far:\", totalrewards[:(i+1)].mean())\n",
    "\n",
    "    avg_totalrewards = totalrewards.mean()\n",
    "    print(\"avg totalrewards:\", avg_totalrewards)\n",
    "    return avg_totalrewards"
   ]
  },
  {
   "cell_type": "markdown",
   "metadata": {},
   "source": [
    "We create the random search function to optimize parameters"
   ]
  },
  {
   "cell_type": "code",
   "execution_count": 6,
   "metadata": {
    "collapsed": true
   },
   "outputs": [],
   "source": [
    "def random_search(env, pmodel, gamma):\n",
    "    totalrewards = []\n",
    "    best_avg_totalreward = float('-inf')\n",
    "    best_pmodel = pmodel\n",
    "    num_episodes_per_param_test = 3\n",
    "    for t in tqdm_notebook(range(100), desc='HillClimb'):\n",
    "        tmp_pmodel = best_pmodel.copy()\n",
    "        tmp_pmodel.perturb_params()\n",
    "\n",
    "        avg_totalrewards = play_multiple_episodes(\n",
    "          env,\n",
    "          num_episodes_per_param_test,\n",
    "          tmp_pmodel,\n",
    "          gamma\n",
    "        )\n",
    "        totalrewards.append(avg_totalrewards)\n",
    "\n",
    "        if avg_totalrewards > best_avg_totalreward:\n",
    "            best_pmodel = tmp_pmodel\n",
    "    return totalrewards, best_pmodel"
   ]
  },
  {
   "cell_type": "code",
   "execution_count": 7,
   "metadata": {
    "collapsed": false
   },
   "outputs": [
    {
     "name": "stdout",
     "output_type": "stream",
     "text": [
      "avg totalrewards: 73.0378471369\n",
      "avg totalrewards: -96.8714032523\n",
      "avg totalrewards: -104.649332806\n",
      "avg totalrewards: -15.1322072571\n",
      "avg totalrewards: 87.752353203\n",
      "avg totalrewards: 82.9466940641\n",
      "avg totalrewards: 68.5395862783\n",
      "avg totalrewards: 85.0024919948\n",
      "avg totalrewards: 77.6853006098\n",
      "avg totalrewards: -104.689817913\n",
      "avg totalrewards: 86.5914808216\n",
      "avg totalrewards: -128.492251724\n",
      "avg totalrewards: -112.170911242\n",
      "avg totalrewards: -107.863461405\n",
      "avg totalrewards: -83.4518182311\n",
      "avg totalrewards: -178.711227428\n",
      "avg totalrewards: -189.631018721\n",
      "avg totalrewards: -112.023202133\n",
      "avg totalrewards: -103.00300751\n",
      "avg totalrewards: 87.6096041983\n",
      "avg totalrewards: -65.5423029624\n",
      "avg totalrewards: 94.6376813303\n",
      "avg totalrewards: 85.508052836\n",
      "avg totalrewards: -82.6022739015\n",
      "avg totalrewards: -170.282659738\n",
      "avg totalrewards: 88.3291366147\n",
      "avg totalrewards: 94.518588607\n",
      "avg totalrewards: 88.9028721804\n",
      "avg totalrewards: 89.097958748\n",
      "avg totalrewards: 87.2870926793\n",
      "avg totalrewards: 81.8213342373\n",
      "avg totalrewards: 88.7620337146\n",
      "avg totalrewards: 88.8727234307\n",
      "avg totalrewards: 92.8882677366\n",
      "avg totalrewards: 88.2267612975\n",
      "avg totalrewards: 88.3583612673\n",
      "avg totalrewards: -84.9141857486\n",
      "avg totalrewards: 16.5718045995\n",
      "avg totalrewards: 70.5490257672\n",
      "avg totalrewards: -126.65707374\n",
      "avg totalrewards: -148.59833974\n",
      "avg totalrewards: -198.013177358\n",
      "avg totalrewards: -175.928890736\n",
      "avg totalrewards: -63.7719735437\n",
      "avg totalrewards: -125.047719223\n",
      "avg totalrewards: -175.621176595\n",
      "avg totalrewards: -195.719543678\n",
      "avg totalrewards: -150.597394474\n",
      "avg totalrewards: -167.683759435\n",
      "avg totalrewards: -82.5822389937\n",
      "avg totalrewards: -75.5548841748\n",
      "avg totalrewards: -55.6591759335\n",
      "avg totalrewards: -42.7928015632\n",
      "avg totalrewards: -103.676661117\n",
      "avg totalrewards: -105.477139029\n",
      "avg totalrewards: -100.637835868\n",
      "avg totalrewards: -126.397646038\n",
      "avg totalrewards: -137.04043545\n",
      "avg totalrewards: -130.210100085\n",
      "avg totalrewards: -141.001268977\n",
      "avg totalrewards: -135.555761615\n",
      "avg totalrewards: -122.852755486\n",
      "avg totalrewards: -129.806928169\n",
      "avg totalrewards: -98.6664990725\n",
      "avg totalrewards: -101.957570394\n",
      "avg totalrewards: -121.281023794\n",
      "avg totalrewards: -120.79737972\n",
      "avg totalrewards: -110.623642175\n",
      "avg totalrewards: 67.8913524751\n",
      "avg totalrewards: -86.4409908082\n",
      "avg totalrewards: -111.105329781\n",
      "avg totalrewards: -93.0047311669\n",
      "avg totalrewards: 81.5938831229\n",
      "avg totalrewards: -78.761324464\n",
      "avg totalrewards: -62.4587501705\n",
      "avg totalrewards: -89.195053324\n",
      "avg totalrewards: 65.6271225307\n",
      "avg totalrewards: 80.4812878378\n",
      "avg totalrewards: 83.3491673261\n",
      "avg totalrewards: 81.6207816478\n",
      "avg totalrewards: 55.8612216183\n",
      "avg totalrewards: 91.1610565386\n",
      "avg totalrewards: 91.4250920155\n",
      "avg totalrewards: 92.6155505555\n",
      "avg totalrewards: 90.7862333875\n",
      "avg totalrewards: 91.8799057301\n",
      "avg totalrewards: -9.48790909972\n",
      "avg totalrewards: -75.7879902663\n",
      "avg totalrewards: -97.2104472119\n",
      "avg totalrewards: -105.11905954\n",
      "avg totalrewards: -77.1825715048\n",
      "avg totalrewards: -94.3853459827\n",
      "avg totalrewards: -114.430242203\n",
      "avg totalrewards: -134.610671538\n",
      "avg totalrewards: -104.087589178\n",
      "avg totalrewards: -127.282040867\n",
      "avg totalrewards: -128.978572133\n",
      "avg totalrewards: -116.604471593\n",
      "avg totalrewards: -92.3628748526\n",
      "avg totalrewards: -102.530499212\n",
      "\n",
      "avg totalrewards: -101.297945147\n"
     ]
    },
    {
     "data": {
      "image/png": "[encoded data removed]",
      "text/plain": [
       "<matplotlib.figure.Figure at 0x1117d8d68>"
      ]
     },
     "metadata": {},
     "output_type": "display_data"
    }
   ],
   "source": [
    "ft = FeatureTransformer(env, n_components=100)\n",
    "D = ft.dimensions\n",
    "pmodel = PolicyModel(ft, D, [], [])\n",
    "session = tf.InteractiveSession()\n",
    "pmodel.set_session(session)\n",
    "pmodel.init_vars()\n",
    "gamma = 0.99\n",
    "\n",
    "totalrewards, pmodel = random_search(env, pmodel, gamma)\n",
    "\n",
    "avg_totalrewards = play_multiple_episodes(env, 100, pmodel, gamma, status=True)\n",
    "\n",
    "plt.plot(totalrewards)\n",
    "plt.show()"
   ]
  }
 ],
 "metadata": {
  "kernelspec": {
   "display_name": "Python 3",
   "language": "python",
   "name": "python3"
  },
  "language_info": {
   "codemirror_mode": {
    "name": "ipython",
    "version": 3
   },
   "file_extension": ".py",
   "mimetype": "text/x-python",
   "name": "python",
   "nbconvert_exporter": "python",
   "pygments_lexer": "ipython3",
   "version": "3.6.0"
  }
 },
 "nbformat": 4,
 "nbformat_minor": 2
}
