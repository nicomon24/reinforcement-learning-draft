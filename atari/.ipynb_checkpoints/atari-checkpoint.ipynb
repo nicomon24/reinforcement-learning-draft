{
 "cells": [
  {
   "cell_type": "markdown",
   "metadata": {},
   "source": [
    "# DQN on atari's TBD\n",
    "We are going to implement DQN on the atari game TBD."
   ]
  },
  {
   "cell_type": "code",
   "execution_count": 20,
   "metadata": {
    "collapsed": false
   },
   "outputs": [],
   "source": [
    "# Imports specifically so we can render outputs in Jupyter.\n",
    "from JSAnimation.IPython_display import display_animation\n",
    "from matplotlib import animation\n",
    "import matplotlib.pyplot as plt\n",
    "from IPython.display import display\n",
    "from tqdm import tnrange, tqdm_notebook\n",
    "import numpy as np\n",
    "from collections import deque\n",
    "\n",
    "%matplotlib inline\n",
    "\n",
    "def display_frames_as_gif(frames):\n",
    "    \"\"\"\n",
    "    Displays a list of frames as a gif, with controls\n",
    "    \"\"\"\n",
    "    #plt.figure(figsize=(frames[0].shape[1] / 72.0, frames[0].shape[0] / 72.0), dpi = 72)\n",
    "    patch = plt.imshow(frames[0])\n",
    "    plt.axis('off')\n",
    "\n",
    "    def animate(i):\n",
    "        patch.set_data(frames[i])\n",
    "\n",
    "    anim = animation.FuncAnimation(plt.gcf(), animate, frames = len(frames), interval=50)\n",
    "    display(display_animation(anim, default_mode='loop'))"
   ]
  },
  {
   "cell_type": "markdown",
   "metadata": {},
   "source": [
    "## Load environment"
   ]
  },
  {
   "cell_type": "code",
   "execution_count": 21,
   "metadata": {
    "collapsed": false
   },
   "outputs": [
    {
     "name": "stderr",
     "output_type": "stream",
     "text": [
      "[2017-10-20 15:30:53,213] Making new env: Breakout-v0\n",
      "[2017-10-20 15:30:53,404] Finished writing results. You can upload them to the scoreboard via gym.upload('/Users/nicom/Documents/Projects/openai/atari/tmp/dqn-results')\n",
      "[2017-10-20 15:30:53,405] Clearing 8 monitor files from previous run (because force=True was provided)\n"
     ]
    },
    {
     "data": {
      "text/plain": [
       "[42, 742738649]"
      ]
     },
     "execution_count": 21,
     "metadata": {},
     "output_type": "execute_result"
    }
   ],
   "source": [
    "import gym\n",
    "from gym import wrappers\n",
    "# Create env\n",
    "env = gym.make(\"Breakout-v0\")\n",
    "# Setup wrapper\n",
    "outdir = 'tmp/dqn-results'\n",
    "env = wrappers.Monitor(env, directory=outdir, force=True)\n",
    "# Set seed for replication \n",
    "env.seed(42)"
   ]
  },
  {
   "cell_type": "markdown",
   "metadata": {},
   "source": [
    "## Image preprocessing\n",
    "We are going to scale and crop the image to make our learning easier (without losing information)"
   ]
  },
  {
   "cell_type": "code",
   "execution_count": 22,
   "metadata": {
    "collapsed": false
   },
   "outputs": [
    {
     "name": "stderr",
     "output_type": "stream",
     "text": [
      "[2017-10-20 15:30:55,163] Starting new video recorder writing to /Users/nicom/Documents/Projects/openai/atari/tmp/dqn-results/openaigym.video.1.10814.video000000.mp4\n"
     ]
    },
    {
     "data": {
      "text/plain": [
       "<matplotlib.image.AxesImage at 0x117472f28>"
      ]
     },
     "execution_count": 22,
     "metadata": {},
     "output_type": "execute_result"
    },
    {
     "data": {
      "image/png": "[encoded data removed]",
      "text/plain": [
       "<matplotlib.figure.Figure at 0x1170a7710>"
      ]
     },
     "metadata": {},
     "output_type": "display_data"
    }
   ],
   "source": [
    "from scipy.misc import imresize\n",
    "\n",
    "IM_WIDTH = 80\n",
    "IM_HEIGHT = 80\n",
    "\n",
    "def preprocess_screen(observation):\n",
    "    # Crop image\n",
    "    observation = observation[31:194]\n",
    "    # Apply grayscale\n",
    "    observation = observation.mean(axis=2)\n",
    "    # Normalize 0-1\n",
    "    observation = observation / 255\n",
    "    # Scale to 80x80\n",
    "    observation = imresize(observation, size=(IM_HEIGHT, IM_WIDTH), interp='nearest')\n",
    "    return observation\n",
    "\n",
    "obs = env.reset()\n",
    "plt.imshow(preprocess_screen(obs), cmap='gray')"
   ]
  },
  {
   "cell_type": "markdown",
   "metadata": {},
   "source": [
    "Next we will create the DQN model using layers this time"
   ]
  },
  {
   "cell_type": "code",
   "execution_count": 18,
   "metadata": {
    "collapsed": true
   },
   "outputs": [],
   "source": [
    "class DQN:\n",
    "    \n",
    "    def __init__(self, K, gamma, scope):\n",
    "        self.K = K\n",
    "        self.scope = scope\n",
    "        with tf.variable_scope(scope):\n",
    "            # Placeholders\n",
    "            self.X = tf.placeholder(tf.float32, shape=(None, IM_HEIGHT, IM_WIDTH, 4), name='X')\n",
    "            self.G = tf.placeholder(tf.float32, shape=(None,), name='G')\n",
    "            self.actions = tf.placeholder(tf.int32, shape=(None,), name='actions')\n",
    "            # Convolution\n",
    "            self.c1 = tf.contrib.layers.conv2d(inputs=self.X, num_outputs=16, kernel_size=8, stride=4)\n",
    "            self.c2 = tf.contrib.layers.conv2d(inputs=self.X, num_outputs=32, kernel_size=4, stride=2)\n",
    "            self.flatted = tf.contrib.layers.flatten(inputs=self.c2)\n",
    "            # Fully connected\n",
    "            self.d1 = tf.contrib.layers.fully_connected(inputs=self.flatted, num_outputs=256)\n",
    "            # Linear output layer\n",
    "            self.output = tf.contrib.layers.fully_connected(inputs=self.d1, num_outputs=K, activation_fn=None)\n",
    "            # Cost and train\n",
    "            selected_action_values = tf.reduce_sum(\n",
    "                self.output * tf.one_hot(self.actions, K),\n",
    "                reduction_indices=[1]\n",
    "            )\n",
    "            cost = tf.reduce_mean(tf.square(self.G - selected_action_values))\n",
    "            self.train_op = tf.train.RMSPropOptimizer(0.00025, 0.99, 0.0, 1e-6).minimize(cost)\n",
    "            self.cost = cost\n",
    "        \n",
    "    def copy_from(self, other):\n",
    "        mine = [t for t in tf.trainable_variables() if t.name.startswith(self.scope)]\n",
    "        mine = sorted(mine, key=lambda v: v.name)\n",
    "        theirs = [t for t in tf.trainable_variables() if t.name.startswith(other.scope)]\n",
    "        theirs = sorted(theirs, key=lambda v: v.name)\n",
    "\n",
    "        ops = []\n",
    "        for p, q in zip(mine, theirs):\n",
    "            actual = self.session.run(q)\n",
    "            op = p.assign(actual)\n",
    "            ops.append(op)\n",
    "\n",
    "        self.session.run(ops)\n",
    "\n",
    "    def set_session(self, session):\n",
    "        self.session = session\n",
    "\n",
    "    def predict(self, states):\n",
    "        return self.session.run(self.predict_op, feed_dict={self.X: states})\n",
    "    \n",
    "    def update(self, states, actions, targets):\n",
    "        c, _ = self.session.run([self.cost, self.train_op],\n",
    "              feed_dict={\n",
    "                self.X: states,\n",
    "                self.G: targets,\n",
    "                self.actions: actions\n",
    "              })\n",
    "        return c\n",
    "\n",
    "    def sample_action(self, x, eps):\n",
    "        if np.random.random() < eps:\n",
    "            return np.random.choice(self.K)\n",
    "        else:\n",
    "            return np.argmax(self.predict([x])[0])"
   ]
  },
  {
   "cell_type": "markdown",
   "metadata": {},
   "source": [
    "We are going to use a queue to store the last 4 frames as the state "
   ]
  },
  {
   "cell_type": "code",
   "execution_count": 29,
   "metadata": {
    "collapsed": false
   },
   "outputs": [],
   "source": [
    "class StateQueue:\n",
    "    \n",
    "    def __init__(self, initial_state, n = 4):\n",
    "        self.states = deque([initial_state] * n, maxlen = n)\n",
    "        \n",
    "    def add_state(self, state):\n",
    "        self.states.append(state)\n",
    "        \n",
    "    def get_state(self):\n",
    "        return np.transpose(np.array(self.states), [1, 2, 0])"
   ]
  },
  {
   "cell_type": "code",
   "execution_count": 27,
   "metadata": {
    "collapsed": true
   },
   "outputs": [],
   "source": [
    "def play_one(env, experience_replay_buffer, model, tmodel, gamma, batch_size, eps, d_eps, min_eps):\n",
    "    obs = env.reset()"
   ]
  },
  {
   "cell_type": "code",
   "execution_count": 30,
   "metadata": {
    "collapsed": false
   },
   "outputs": [
    {
     "name": "stdout",
     "output_type": "stream",
     "text": [
      "(3, 3, 4)\n"
     ]
    }
   ],
   "source": [
    "s = StateQueue(np.zeros((3,3)))\n",
    "print(s.get_state().shape)"
   ]
  },
  {
   "cell_type": "code",
   "execution_count": null,
   "metadata": {
    "collapsed": true
   },
   "outputs": [],
   "source": []
  }
 ],
 "metadata": {
  "kernelspec": {
   "display_name": "Python 3",
   "language": "python",
   "name": "python3"
  },
  "language_info": {
   "codemirror_mode": {
    "name": "ipython",
    "version": 3
   },
   "file_extension": ".py",
   "mimetype": "text/x-python",
   "name": "python",
   "nbconvert_exporter": "python",
   "pygments_lexer": "ipython3",
   "version": "3.6.0"
  }
 },
 "nbformat": 4,
 "nbformat_minor": 2
}
